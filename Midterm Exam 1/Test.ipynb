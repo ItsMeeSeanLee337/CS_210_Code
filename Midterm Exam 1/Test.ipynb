{
 "cells": [
  {
   "cell_type": "code",
   "execution_count": 12,
   "id": "a4a2f163-f433-4b8a-860a-f3e6bc8d82f1",
   "metadata": {},
   "outputs": [],
   "source": [
    "combinations = [(n,m) for n in range (1,11) \n",
    "                for m in range(1,11) \n",
    "                if ((n + m) % 3) == 0]"
   ]
  },
  {
   "cell_type": "code",
   "execution_count": 13,
   "id": "1a5b5df5-b554-4449-8508-7e25a55d4800",
   "metadata": {},
   "outputs": [
    {
     "data": {
      "text/plain": [
       "[(1, 2),\n",
       " (1, 5),\n",
       " (1, 8),\n",
       " (2, 1),\n",
       " (2, 4),\n",
       " (2, 7),\n",
       " (2, 10),\n",
       " (3, 3),\n",
       " (3, 6),\n",
       " (3, 9),\n",
       " (4, 2),\n",
       " (4, 5),\n",
       " (4, 8),\n",
       " (5, 1),\n",
       " (5, 4),\n",
       " (5, 7),\n",
       " (5, 10),\n",
       " (6, 3),\n",
       " (6, 6),\n",
       " (6, 9),\n",
       " (7, 2),\n",
       " (7, 5),\n",
       " (7, 8),\n",
       " (8, 1),\n",
       " (8, 4),\n",
       " (8, 7),\n",
       " (8, 10),\n",
       " (9, 3),\n",
       " (9, 6),\n",
       " (9, 9),\n",
       " (10, 2),\n",
       " (10, 5),\n",
       " (10, 8)]"
      ]
     },
     "execution_count": 13,
     "metadata": {},
     "output_type": "execute_result"
    }
   ],
   "source": [
    "combinations"
   ]
  },
  {
   "cell_type": "code",
   "execution_count": 16,
   "id": "6bc5292b-e065-4ff8-a9f3-93bfdf361544",
   "metadata": {},
   "outputs": [],
   "source": [
    "studentStatus = [(year,living,time) for year in 'FSJE'\n",
    "                 for living in 'RC'\n",
    "                 for time in 'FP']"
   ]
  },
  {
   "cell_type": "code",
   "execution_count": 17,
   "id": "72253839-e9b7-4e49-b389-593296df33a1",
   "metadata": {},
   "outputs": [
    {
     "data": {
      "text/plain": [
       "[('F', 'R', 'F'),\n",
       " ('F', 'R', 'P'),\n",
       " ('F', 'C', 'F'),\n",
       " ('F', 'C', 'P'),\n",
       " ('S', 'R', 'F'),\n",
       " ('S', 'R', 'P'),\n",
       " ('S', 'C', 'F'),\n",
       " ('S', 'C', 'P'),\n",
       " ('J', 'R', 'F'),\n",
       " ('J', 'R', 'P'),\n",
       " ('J', 'C', 'F'),\n",
       " ('J', 'C', 'P'),\n",
       " ('E', 'R', 'F'),\n",
       " ('E', 'R', 'P'),\n",
       " ('E', 'C', 'F'),\n",
       " ('E', 'C', 'P')]"
      ]
     },
     "execution_count": 17,
     "metadata": {},
     "output_type": "execute_result"
    }
   ],
   "source": [
    "studentStatus"
   ]
  }
 ],
 "metadata": {
  "kernelspec": {
   "display_name": "Python 3",
   "language": "python",
   "name": "python3"
  },
  "language_info": {
   "codemirror_mode": {
    "name": "ipython",
    "version": 3
   },
   "file_extension": ".py",
   "mimetype": "text/x-python",
   "name": "python",
   "nbconvert_exporter": "python",
   "pygments_lexer": "ipython3",
   "version": "3.8.8"
  }
 },
 "nbformat": 4,
 "nbformat_minor": 5
}
