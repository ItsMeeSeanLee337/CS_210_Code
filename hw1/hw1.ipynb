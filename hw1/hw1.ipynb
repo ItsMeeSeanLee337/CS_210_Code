{
 "cells": [
  {
   "cell_type": "code",
   "execution_count": 1,
   "id": "3c1b55cc-e015-41b7-b983-c90f14eca65f",
   "metadata": {},
   "outputs": [],
   "source": [
    "#Edit on 7:17pm\n",
    "#TASK 1: READING DATA\n",
    "\n",
    "#1) Write a function read_ratings_data(f) that takes in a ratings file, and returns a dictionary. The dictionary should have movie as key, and the corresponding list of ratings as value.\n",
    "\n",
    "def read_ratings_data(f):\n",
    "    dict_output = {}\n",
    "    \n",
    "    for each_line in open(f):   #read one line at a time\n",
    "        current_line = each_line.split(\"|\")  #returns list\n",
    "        movie_name = current_line[0].strip()\n",
    "        rating = float(current_line[1])\n",
    "        \n",
    "        if movie_name in dict_output: #if movie is already in dictionary\n",
    "            dict_output[movie_name].append(rating)\n",
    "        else: #if movie not in dictionary\n",
    "            dict_output[movie_name] = [rating]\n",
    "    \n",
    "    return dict_output\n",
    "\n",
    "#2) Write a function read_movie_genre(f) that takes in a movies file and returns a dictionary. The dictionary should have a one-to-one mapping between movie and genre.\n",
    "\n",
    "def read_movie_genre(f):\n",
    "    output_dict = {}\n",
    "    \n",
    "    for each_line in open(f): #read one line at a time\n",
    "        current_line = each_line.split(\"|\") #returns list\n",
    "        genre = current_line[0].strip()\n",
    "        movie_name = current_line[2].strip()\n",
    "        \n",
    "        if movie_name in output_dict:\n",
    "            continue\n",
    "        else:\n",
    "            output_dict[movie_name] = genre\n",
    "    \n",
    "    return output_dict\n",
    "\n",
    "#All methods in task 1 work properly\n",
    "\n",
    "#TASK 2: PROCESSING DATA\n",
    "\n",
    "#1) Genre dictionary Write a function create_genre_dict that takes as a parameter a movie-to-genre dictionary, of the kind created in Task 1.2. The function should return another dictionary in which a genre is mapped to all the movies in that genre.\n",
    "\n",
    "def create_genre_dict(movie_to_genre_dict):\n",
    "    dict_output = {}\n",
    "    \n",
    "    for key in movie_to_genre_dict:\n",
    "        movie = key\n",
    "        genre = movie_to_genre_dict[key]\n",
    "        \n",
    "        if genre in dict_output:\n",
    "            dict_output[genre].append(movie)\n",
    "        else: #genre hasnt been added yet\n",
    "            dict_output[genre] = [movie]\n",
    "            \n",
    "    return dict_output\n",
    "\n",
    "\n",
    "#2 Average Rating Write a function calculate_average_rating that takes as a parameter a ratings dictionary, of the kind created in Task 1.1. It should return a dictionary where the movie is mapped to its average rating computed from the ratings list.\n",
    "\n",
    "def calculate_average_rating(ratings_dict):\n",
    "    dict_output = {}\n",
    "    \n",
    "    for key in ratings_dict: #iterates thru every key \n",
    "        movie = key\n",
    "        # What is the point in assigning movie to key if you are just using key in the entirety of the for loop?\n",
    "        average_rating = sum(ratings_dict[key]) / len(ratings_dict[key])\n",
    "        \n",
    "        dict_output[key] = average_rating\n",
    "        \n",
    "    return dict_output\n",
    "\n",
    "#All methods in task 2 work properly\n",
    "\n",
    "#TASK 3: RECOMMENDATION\n",
    "\n",
    "#1 Populartiy Based \n",
    "# Write a function get_popular_movies that takes as parameters a dictionary of movie-to-average rating ( as created in Task 2.2), and an integer n (default should be 10). The function should return a dictionary ( movie:average rating, same structure as input dictionary) of top n movies based on the average ratings. (If there are fewer movies than n, it should all return all movies in order of top average ratings.)\n",
    "\n",
    "def get_popular_movies(dict_movie_to_avg_rating, n = 10):\n",
    "    output_dict = {}\n",
    "    \n",
    "    #sort movie avg rating list\n",
    "    dict_movie_to_avg_rating_sorted_list = sorted(dict_movie_to_avg_rating.items(), reverse = True, key = lambda movie: movie[1]) #returns sorted list based on rating\n",
    "    \n",
    "    for i in range(n): #0, 1, 2, ... n - 1\n",
    "        try:\n",
    "            movie = dict_movie_to_avg_rating_sorted_list[i][0]\n",
    "            avg_rating = dict_movie_to_avg_rating_sorted_list[i][1]\n",
    "            output_dict[movie] = avg_rating\n",
    "        except: #ie.g. if there's 5 movies and n = 10\n",
    "            break \n",
    "\n",
    "            \n",
    "    return output_dict\n",
    "\n",
    "\n",
    "#2 Threshold Rating\n",
    "# Write a function filter_movies that takes as parameters a dictionary of movie-to-average rating (same as for the popularity based function above), and a threshold rating with default value of 3. The function should filter movies based on the threshold rating, and return a dictionary with same structure as the input. For example, if the threshold rating is 3.5, the returned dictionary should have only those movies from the input whose average rating is equal to or greater than 3.5.\n",
    "\n",
    "def filter_movies(dict_of_movie_to_avg_rating, threshold_rating = 3):\n",
    "    output_dict = {} #return a dictionary w/ same structure as the input (dictionary of movie to average rating)\n",
    "    \n",
    "    for key in dict_of_movie_to_avg_rating: #iterates thru every key\n",
    "        if dict_of_movie_to_avg_rating[key] >= threshold_rating:\n",
    "            output_dict[key] = dict_of_movie_to_avg_rating[key]\n",
    "            \n",
    "    return output_dict\n",
    "\n",
    "    \n",
    "\n",
    "\n",
    "#3 Popularity + Genre based\n",
    "#Write a function get_popular_in_genre that, given a genre, a genre-to-movies dictionary (as created in Task 2.1), a dictionary of movie:average rating (as created in Task 2.2), and an integer n (default 5), returns the top n most popular movies in that genre based on the average ratings. The return value should be a dictionary of movie-to-average rating of movies that make the cut. Genre categories will be from those in the movie:genre dictionary created in Task 1.2. Your code should handle the case when there are fewer than n movies in the data, as in Task 3.1 above.\n",
    "\n",
    "def get_popular_in_genre(genre, genre_to_movies_dict, movie_average_rating_dict, n = 5):\n",
    "    \n",
    "    output_dict = {} #return top n most popular movies in that genre based on avg ratings. Return: dict of movie to avg rating that make the cut\n",
    "    \n",
    "    \n",
    "    list_of_movies_of_genre = genre_to_movies_dict[genre] #get list of movies of given genre\n",
    "    \n",
    "\n",
    "    dict_movies_genre_rating = {} #dictionary of movies of given genre and corresponding avg ratings\n",
    "    \n",
    "    for movie in list_of_movies_of_genre: #iterate thru list of movies of given genre\n",
    "        dict_movies_genre_rating[movie] = movie_average_rating_dict[movie]\n",
    "        \n",
    "    dict_movies_genre_rating_sorted_list = sorted(dict_movies_genre_rating.items(), reverse = True, key = lambda movie: movie[1])  #sorting the dict of movies of genre based on avg rating\n",
    "\n",
    "    for i in range(n): #0, 1, 2, ... (n-1)\n",
    "        try:\n",
    "            movie = dict_movies_genre_rating_sorted_list[i][0]\n",
    "            avg_rating = dict_movies_genre_rating_sorted_list[i][1]\n",
    "            output_dict[movie] = avg_rating\n",
    "        except:\n",
    "            break\n",
    "            \n",
    "    return output_dict\n",
    "\n",
    "\n",
    "#4 Genre Rating\n",
    "#Write a function get_genre_rating that takes the same parameters as get_popular_in_genre above, except for n, and returns the average rating of the movies in the given genre.\n",
    "\n",
    "#return single number\n",
    "#calculalte the average of the average using movie to avg rating\n",
    "def get_genre_rating(genre, genre_to_movie_dict, movie_avg_rating_dict):\n",
    "    output_dict = {}\n",
    "    list_of_movies_of_genre = genre_to_movie_dict[genre] # list of all movies of given genre\n",
    "    \n",
    "    for movie in list_of_movies_of_genre: #for each movie of genre in list\n",
    "        output_dict[movie] = movie_avg_rating_dict[movie]\n",
    "        \n",
    "    #return avg rating of movies in given genre\n",
    "    sum_Rating = 0\n",
    "    numbOfMovies = 0;\n",
    "    for key in output_dict:\n",
    "        sum_Rating = sum_Rating + output_dict[key]\n",
    "        numbOfMovies = numbOfMovies + 1\n",
    "        \n",
    "    return sum_Rating / numbOfMovies\n",
    "    \n",
    "\n",
    "\n",
    "\n",
    "\n",
    "#5 Genre Popularity\n",
    "# Write a function genre_popularity that takes as parameters a genre-to-movies dictionary (as created in Task 2.1), a movie-to-average rating dictionary (as created in Task 2.2), and n (default 5), and returns the top-n rated genres as a dictionary of genre:average rating. Hint: Use the above get_genre_rating function as a helper\n",
    "\n",
    "    #take the average of the average rating. Same thing mathematically as addding each individual ratings(not avg) and dividing by amount of #s\n",
    "    \n",
    "    #in genre:average rating dictionary, what does average rating refer to? How to calculate it? Need to use get_genre_rating fuction?\n",
    "        \n",
    "    # (Make sure to test your programs on files other than the samples we have provided, to cover the various paths of logic in your code.) WHAT DOES THIS MEAN?\n",
    "    \n",
    "def genre_popularity(genre_to_movies_dict, movie_avg_rating_dict, n = 5):\n",
    "    output_dict = {} #returns dictionary genre: avg rating\n",
    "    \n",
    "    for each_genre in genre_to_movies_dict:\n",
    "        output_dict[each_genre] = get_genre_rating(each_genre, genre_to_movies_dict, movie_avg_rating_dict) #returns  avg rating of movies in this genre (single number)\n",
    "    \n",
    "    #sort the dictionary and  return top n\n",
    "    output_dict2 = {} #same as output_dict but has it in reverse order\n",
    "    output_dict_sorted_list = sorted(output_dict.items(), reverse = True, key = lambda rating: rating[1])\n",
    "    for i in range(n):\n",
    "        genre = output_dict_sorted_list[i][0]\n",
    "        genre_rating = output_dict_sorted_list[i][1]\n",
    "        output_dict2[genre] = genre_rating\n",
    "    \n",
    "    return output_dict2\n",
    "    \n",
    "#Task 3.5 does not work on example .txt files\n",
    "    \n",
    "#TASK 4 (USER FOCUSED)\n",
    "\n",
    "#1) Read the ratings file to return a user-to-movies dictionary that maps user ID to the associated movies and the corresponding ratings. Write a function named read_user_ratings for this, with the ratings file as the parameter.\n",
    "\n",
    "def read_user_ratings(f):\n",
    "    output_dict = {}\n",
    "    \n",
    "    for each_line in open(f): # read one line at a time\n",
    "        \n",
    "        current_line = each_line.split(\"|\") #returns list\n",
    "        movie = current_line[0]\n",
    "        rating = float(current_line[1])\n",
    "        userID = int(current_line[2])\n",
    "        \n",
    "        if userID in output_dict:\n",
    "            tuple_to_append = (movie, rating)\n",
    "            output_dict[userID].append(tuple_to_append)\n",
    "        else:\n",
    "            output_dict[userID] = [(movie, rating)]\n",
    "        \n",
    "    return output_dict\n",
    "\n",
    "\n",
    "\n",
    "#2\n",
    "#Write a function get_user_genre that takes as parameters a user id, the user-to-movies dictionary (as created in Task 4.1 above), and the movie-to-genre dictionary (as created in Task 1.2), and returns the top genre that the user likes based on the user's ratings. Here, the top genre for the user will be determined by taking the average rating of the movies genre-wise that the user has rated.\n",
    "\n",
    "#WHAT TO RETURN IF USER RATED 3 MOVIES THE SAME THAT ARE ALL OF DIFFERENTE GENRE\n",
    "#Return any genre if theres a tie\n",
    "\n",
    "def get_user_genre(userID, user_to_movies_dict, movie_to_genre_dict): #Returns top genre of user\n",
    "    movies_rating_tuple_of_user_list = user_to_movies_dict[userID] #gets all movies and corresponding rating that user rated\n",
    "    helper_dict = {} #genre: [sum rating, numbOfRatings] dictionary. USE THIS TO GET AVG RATING OF MOVIES GENRE WISE\n",
    "    \n",
    "    for each_tuple in movies_rating_tuple_of_user_list: #for each (movie, rating) in list\n",
    "        movie = each_tuple[0]\n",
    "        rating = each_tuple[1]\n",
    "        genre = movie_to_genre_dict[movie]\n",
    "        try:\n",
    "            helper_dict[genre][0] =  helper_dict[genre][0] + rating #adding rating to sum\n",
    "            helper_dict[genre][1] =  helper_dict[genre][1] + 1 #updating number of ratings\n",
    "        except: #If its first time adding genre\n",
    "            helper_dict[genre] = [rating, 1]\n",
    "            \n",
    "    #using helper_dict, calculate avg and append it to the end of each list in dictionary\n",
    "    for genre in helper_dict:\n",
    "        helper_dict[genre].append(helper_dict[genre][0] / helper_dict[genre][1]) #now dict is of form... genre:[sum rating, # of ratings, avg rating]\n",
    "    \n",
    "    #sorting by avg rating\n",
    "    helper_dict_sorted_list = sorted(helper_dict.items(), reverse = True, key = lambda avgRating: avgRating[1][2])\n",
    "        \n",
    "    top_genre_of_user = helper_dict_sorted_list[0][0]\n",
    "    return top_genre_of_user\n",
    "\n",
    "\n",
    "    \n",
    "\n",
    "\n",
    "    \n",
    "#3 Recommend 3 most popular (highest average rating) movies from the user's top genre that the user has not yet rated. Write a function recommend_movies for this, that takes a parameters a user id, the user-to-movies dictionary (as created in Task 4.1 above), the movie-to-genre dictionary (as created in Task 1.2), and the movie-to-average rating dictionary (as created in Task 2.2). The function should return a dictionary of movie-to-average rating. (Return all if fewer than 3 movies make the cut.)\n",
    "\n",
    "def recommend_movies(userID, user_to_movies_dict, movie_to_genre_dict, movie_to_avg_rating_dict): #ASK if score for this depends on if get_user_genre is correct\n",
    "    output_dict = {} #dict of movie to average rating.\n",
    "    users_top_genre = get_user_genre(userID, user_to_movies_dict, movie_to_genre_dict) #user's top genre\n",
    "    \n",
    "    list_of_movies_of_genre = []\n",
    "    \n",
    "    #gets all movies of users top genre\n",
    "    for key in movie_to_genre_dict: #iterate thru every key\n",
    "        if movie_to_genre_dict[key] == users_top_genre:\n",
    "            list_of_movies_of_genre.append(key)\n",
    "            \n",
    "    \n",
    "    #remove elements user has rated, leaving those that user has not yet rated\n",
    "    list_of_movies_rated = user_to_movies_dict[userID] # list of tuples (movie, rating) for user\n",
    "    list_of_movies_to_remove = []\n",
    "    for movie in list_of_movies_of_genre:\n",
    "        for tuples in list_of_movies_rated:\n",
    "            if movie == tuples[0]:\n",
    "                list_of_movies_to_remove.append(movie)\n",
    "    for i in list_of_movies_to_remove:\n",
    "        list_of_movies_of_genre.remove(i)\n",
    "        \n",
    "    #Now that you have all movies from user's top genre that user HASNT rated, get its corresponding avg rating\n",
    "    sorted_dict_of_list_of_movies_of_genre = {}\n",
    "    for movie in list_of_movies_of_genre:\n",
    "        sorted_dict_of_list_of_movies_of_genre[movie] =  movie_to_avg_rating_dict[movie]\n",
    "    \n",
    "    sorted_dict_of_list_of_movies_of_genre = sorted(sorted_dict_of_list_of_movies_of_genre.items(), reverse = True, key=lambda movie: movie[1]) #returns sorted list of tuples of key value pairs\n",
    "        \n",
    "    \n",
    "    for i in range(3): #0, 1, 2\n",
    "        try:\n",
    "            movie = sorted_dict_of_list_of_movies_of_genre[i][0]\n",
    "            avg_rating = sorted_dict_of_list_of_movies_of_genre[i][1]\n",
    "            output_dict[movie] = avg_rating\n",
    "        except:\n",
    "            break;\n",
    "            \n",
    "    return output_dict\n",
    "\n",
    "\n",
    "\n",
    "#PROF SAID YOUR CODE WILL BE CALLED ON THE CORRECT FUCTIONS, SO THEY DON'T DEPEND ON EACH OTHER IN TERMS OF GRADING"
   ]
  },
  {
   "cell_type": "markdown",
   "id": "becfd3cc-ae0a-42ca-8c8c-bda2cd55e29a",
   "metadata": {
    "tags": []
   },
   "source": [
    "# Test with sample .txt files"
   ]
  },
  {
   "cell_type": "markdown",
   "id": "b17ac8e3-d77e-468e-b53c-c898a674ff8b",
   "metadata": {},
   "source": [
    "**Task 1.1:**"
   ]
  },
  {
   "cell_type": "code",
   "execution_count": 2,
   "id": "46531256-5996-4e84-b6ec-8b10fb9dff99",
   "metadata": {},
   "outputs": [],
   "source": [
    "ratingsData = read_ratings_data('movieRatingSample.txt')"
   ]
  },
  {
   "cell_type": "code",
   "execution_count": 3,
   "id": "b11360a4-0a1c-4425-8926-f8bf564902e3",
   "metadata": {},
   "outputs": [
    {
     "data": {
      "text/plain": [
       "{'Toy Story (1995)': [4.0, 4.0, 4.5, 2.5, 4.5, 3.5],\n",
       " 'Jumanji (1995)': [4.0, 4.0, 3.0, 3.0, 3.0, 3.5],\n",
       " 'Tom and Huck (1995)': [3.0, 1.0, 5.0, 3.0, 2.0, 3.0],\n",
       " 'Grumpier Old Men (1995)': [4.0, 5.0, 3.0, 3.0, 4.0, 5.0],\n",
       " 'Waiting to Exhale (1995)': [3.0, 3.0, 3.0, 3.0, 1.0, 2.0],\n",
       " 'Father of the Bride Part II (1995)': [5.0, 3.0, 5.0, 3.0, 4.0, 4.0],\n",
       " 'Heat (1995)': [4.0, 4.0, 5.0, 4.0, 4.0, 4.5],\n",
       " 'Sudden Death (1995)': [4.0, 3.0, 3.0, 2.0, 3.0, 5.0],\n",
       " 'GoldenEye (1995)': [3.0, 2.0, 3.0, 2.0, 5.0, 3.0]}"
      ]
     },
     "execution_count": 3,
     "metadata": {},
     "output_type": "execute_result"
    }
   ],
   "source": [
    "ratingsData"
   ]
  },
  {
   "cell_type": "markdown",
   "id": "080a863b-1c9b-4e7e-9279-b3c2b88cd459",
   "metadata": {},
   "source": [
    "**Task 1.2:**"
   ]
  },
  {
   "cell_type": "code",
   "execution_count": 4,
   "id": "41b0ba8e-9508-4cea-97bf-dfffe2b861c6",
   "metadata": {},
   "outputs": [],
   "source": [
    "genreData = read_movie_genre(\"genreMovieSample.txt\")"
   ]
  },
  {
   "cell_type": "code",
   "execution_count": 5,
   "id": "e92add1a-186c-4de4-a5ac-62653dd228e4",
   "metadata": {},
   "outputs": [
    {
     "data": {
      "text/plain": [
       "{'Toy Story (1995)': 'Adventure',\n",
       " 'Jumanji (1995)': 'Adventure',\n",
       " 'Tom and Huck (1995)': 'Adventure',\n",
       " 'Grumpier Old Men (1995)': 'Comedy',\n",
       " 'Waiting to Exhale (1995)': 'Comedy',\n",
       " 'Father of the Bride Part II (1995)': 'Comedy',\n",
       " 'Heat (1995)': 'Action',\n",
       " 'Sudden Death (1995)': 'Action',\n",
       " 'GoldenEye (1995)': 'Action'}"
      ]
     },
     "execution_count": 5,
     "metadata": {},
     "output_type": "execute_result"
    }
   ],
   "source": [
    "genreData"
   ]
  },
  {
   "cell_type": "markdown",
   "id": "a8272cb8-c301-476d-9d3c-ff3195accd78",
   "metadata": {},
   "source": [
    "**Task 2.1:**"
   ]
  },
  {
   "cell_type": "code",
   "execution_count": 6,
   "id": "2c489115-8c42-4182-a095-a8ef61f14428",
   "metadata": {},
   "outputs": [],
   "source": [
    "genreDict = create_genre_dict(genreData)"
   ]
  },
  {
   "cell_type": "code",
   "execution_count": 7,
   "id": "932737b4-03c0-45e1-9847-407f44536aea",
   "metadata": {},
   "outputs": [
    {
     "data": {
      "text/plain": [
       "{'Adventure': ['Toy Story (1995)', 'Jumanji (1995)', 'Tom and Huck (1995)'],\n",
       " 'Comedy': ['Grumpier Old Men (1995)',\n",
       "  'Waiting to Exhale (1995)',\n",
       "  'Father of the Bride Part II (1995)'],\n",
       " 'Action': ['Heat (1995)', 'Sudden Death (1995)', 'GoldenEye (1995)']}"
      ]
     },
     "execution_count": 7,
     "metadata": {},
     "output_type": "execute_result"
    }
   ],
   "source": [
    "genreDict"
   ]
  },
  {
   "cell_type": "markdown",
   "id": "5594b694-af47-4dad-8c96-006cbc7806c4",
   "metadata": {},
   "source": [
    "**Task 2.2:**"
   ]
  },
  {
   "cell_type": "code",
   "execution_count": 8,
   "id": "5538eef3-0e72-4543-a960-556e48077c75",
   "metadata": {},
   "outputs": [],
   "source": [
    "averageRatingData = calculate_average_rating(ratingsData)"
   ]
  },
  {
   "cell_type": "code",
   "execution_count": 9,
   "id": "67d0987c-28fc-43c7-9639-ad6141cdb5c7",
   "metadata": {},
   "outputs": [
    {
     "data": {
      "text/plain": [
       "{'Toy Story (1995)': 3.8333333333333335,\n",
       " 'Jumanji (1995)': 3.4166666666666665,\n",
       " 'Tom and Huck (1995)': 2.8333333333333335,\n",
       " 'Grumpier Old Men (1995)': 4.0,\n",
       " 'Waiting to Exhale (1995)': 2.5,\n",
       " 'Father of the Bride Part II (1995)': 4.0,\n",
       " 'Heat (1995)': 4.25,\n",
       " 'Sudden Death (1995)': 3.3333333333333335,\n",
       " 'GoldenEye (1995)': 3.0}"
      ]
     },
     "execution_count": 9,
     "metadata": {},
     "output_type": "execute_result"
    }
   ],
   "source": [
    "averageRatingData"
   ]
  },
  {
   "cell_type": "markdown",
   "id": "ada93cf7-9a0f-4d26-b4ed-b3e4a03538a2",
   "metadata": {},
   "source": [
    "**Task 3.1:**"
   ]
  },
  {
   "cell_type": "code",
   "execution_count": 10,
   "id": "760f9154-75ce-46bf-8bc5-9a893d857a9d",
   "metadata": {},
   "outputs": [],
   "source": [
    "popularMovies = get_popular_movies(averageRatingData)"
   ]
  },
  {
   "cell_type": "code",
   "execution_count": 11,
   "id": "2ad34afb-f5fc-4958-b059-5551665ec408",
   "metadata": {},
   "outputs": [
    {
     "data": {
      "text/plain": [
       "{'Heat (1995)': 4.25,\n",
       " 'Grumpier Old Men (1995)': 4.0,\n",
       " 'Father of the Bride Part II (1995)': 4.0,\n",
       " 'Toy Story (1995)': 3.8333333333333335,\n",
       " 'Jumanji (1995)': 3.4166666666666665,\n",
       " 'Sudden Death (1995)': 3.3333333333333335,\n",
       " 'GoldenEye (1995)': 3.0,\n",
       " 'Tom and Huck (1995)': 2.8333333333333335,\n",
       " 'Waiting to Exhale (1995)': 2.5}"
      ]
     },
     "execution_count": 11,
     "metadata": {},
     "output_type": "execute_result"
    }
   ],
   "source": [
    "popularMovies"
   ]
  },
  {
   "cell_type": "markdown",
   "id": "48f5bfee-b34b-4c1f-b32d-f338746c8d24",
   "metadata": {},
   "source": [
    "**Task 3.2:**"
   ]
  },
  {
   "cell_type": "code",
   "execution_count": 12,
   "id": "c64073b1-0556-4987-a35d-56f152eb3e19",
   "metadata": {},
   "outputs": [],
   "source": [
    "filteredMovies = filter_movies(averageRatingData)"
   ]
  },
  {
   "cell_type": "code",
   "execution_count": 13,
   "id": "f63c4a32-f29e-4ac7-89aa-3f59787f18cf",
   "metadata": {},
   "outputs": [
    {
     "data": {
      "text/plain": [
       "{'Toy Story (1995)': 3.8333333333333335,\n",
       " 'Jumanji (1995)': 3.4166666666666665,\n",
       " 'Grumpier Old Men (1995)': 4.0,\n",
       " 'Father of the Bride Part II (1995)': 4.0,\n",
       " 'Heat (1995)': 4.25,\n",
       " 'Sudden Death (1995)': 3.3333333333333335,\n",
       " 'GoldenEye (1995)': 3.0}"
      ]
     },
     "execution_count": 13,
     "metadata": {},
     "output_type": "execute_result"
    }
   ],
   "source": [
    "filteredMovies"
   ]
  },
  {
   "cell_type": "code",
   "execution_count": 14,
   "id": "73f8a0dd-52ee-4205-935e-b8bb74d7cb7a",
   "metadata": {},
   "outputs": [],
   "source": [
    "filteredMoviesN = filter_movies(averageRatingData, 4)"
   ]
  },
  {
   "cell_type": "code",
   "execution_count": 15,
   "id": "4f4e83ac-b1d7-4e2a-a0d9-184612a45659",
   "metadata": {},
   "outputs": [
    {
     "data": {
      "text/plain": [
       "{'Toy Story (1995)': 3.8333333333333335,\n",
       " 'Jumanji (1995)': 3.4166666666666665,\n",
       " 'Grumpier Old Men (1995)': 4.0,\n",
       " 'Father of the Bride Part II (1995)': 4.0,\n",
       " 'Heat (1995)': 4.25,\n",
       " 'Sudden Death (1995)': 3.3333333333333335,\n",
       " 'GoldenEye (1995)': 3.0}"
      ]
     },
     "execution_count": 15,
     "metadata": {},
     "output_type": "execute_result"
    }
   ],
   "source": [
    "filteredMovies"
   ]
  },
  {
   "cell_type": "markdown",
   "id": "bac382dd-acda-4275-900b-a0a48ee3f087",
   "metadata": {},
   "source": [
    "**Task 3.3:**"
   ]
  },
  {
   "cell_type": "code",
   "execution_count": 16,
   "id": "e3bc8cce-d2e4-42ea-9caa-3c0dfcf4b618",
   "metadata": {},
   "outputs": [],
   "source": [
    "popularInGenre = get_popular_in_genre('Action', genreDict, averageRatingData)"
   ]
  },
  {
   "cell_type": "code",
   "execution_count": 17,
   "id": "50dd3c4f-24df-42f0-a6cf-31a61d70af7b",
   "metadata": {},
   "outputs": [
    {
     "data": {
      "text/plain": [
       "{'Heat (1995)': 4.25,\n",
       " 'Sudden Death (1995)': 3.3333333333333335,\n",
       " 'GoldenEye (1995)': 3.0}"
      ]
     },
     "execution_count": 17,
     "metadata": {},
     "output_type": "execute_result"
    }
   ],
   "source": [
    "popularInGenre"
   ]
  },
  {
   "cell_type": "markdown",
   "id": "40773e32-f47f-4adb-a8c4-a27568b1b5dc",
   "metadata": {},
   "source": [
    "**Task 3.4:**"
   ]
  },
  {
   "cell_type": "code",
   "execution_count": 18,
   "id": "84ce750d-188e-406b-a368-82d51b52c599",
   "metadata": {},
   "outputs": [],
   "source": [
    "averageGenreRating = get_genre_rating('Action', genreDict, averageRatingData)"
   ]
  },
  {
   "cell_type": "code",
   "execution_count": 19,
   "id": "328cd086-95f8-4820-ac57-62d2415aa68b",
   "metadata": {},
   "outputs": [
    {
     "data": {
      "text/plain": [
       "3.527777777777778"
      ]
     },
     "execution_count": 19,
     "metadata": {},
     "output_type": "execute_result"
    }
   ],
   "source": [
    "averageGenreRating"
   ]
  },
  {
   "cell_type": "markdown",
   "id": "ef26048d-5182-4323-a9f5-a0a350939515",
   "metadata": {},
   "source": [
    "**Task 3.5:**"
   ]
  },
  {
   "cell_type": "code",
   "execution_count": 20,
   "id": "510386d8-c7be-4d45-a0bc-3304a5c68e37",
   "metadata": {},
   "outputs": [
    {
     "ename": "IndexError",
     "evalue": "list index out of range",
     "output_type": "error",
     "traceback": [
      "\u001b[1;31m---------------------------------------------------------------------------\u001b[0m",
      "\u001b[1;31mIndexError\u001b[0m                                Traceback (most recent call last)",
      "\u001b[1;32m<ipython-input-20-83c8fb62cac7>\u001b[0m in \u001b[0;36m<module>\u001b[1;34m\u001b[0m\n\u001b[1;32m----> 1\u001b[1;33m \u001b[0mtopGenres\u001b[0m \u001b[1;33m=\u001b[0m \u001b[0mgenre_popularity\u001b[0m\u001b[1;33m(\u001b[0m\u001b[0mgenreDict\u001b[0m\u001b[1;33m,\u001b[0m \u001b[0maverageRatingData\u001b[0m\u001b[1;33m)\u001b[0m\u001b[1;33m\u001b[0m\u001b[1;33m\u001b[0m\u001b[0m\n\u001b[0m",
      "\u001b[1;32m<ipython-input-1-090bc691ed1c>\u001b[0m in \u001b[0;36mgenre_popularity\u001b[1;34m(genre_to_movies_dict, movie_avg_rating_dict, n)\u001b[0m\n\u001b[0;32m    184\u001b[0m     \u001b[0moutput_dict_sorted_list\u001b[0m \u001b[1;33m=\u001b[0m \u001b[0msorted\u001b[0m\u001b[1;33m(\u001b[0m\u001b[0moutput_dict\u001b[0m\u001b[1;33m.\u001b[0m\u001b[0mitems\u001b[0m\u001b[1;33m(\u001b[0m\u001b[1;33m)\u001b[0m\u001b[1;33m,\u001b[0m \u001b[0mreverse\u001b[0m \u001b[1;33m=\u001b[0m \u001b[1;32mTrue\u001b[0m\u001b[1;33m,\u001b[0m \u001b[0mkey\u001b[0m \u001b[1;33m=\u001b[0m \u001b[1;32mlambda\u001b[0m \u001b[0mrating\u001b[0m\u001b[1;33m:\u001b[0m \u001b[0mrating\u001b[0m\u001b[1;33m[\u001b[0m\u001b[1;36m1\u001b[0m\u001b[1;33m]\u001b[0m\u001b[1;33m)\u001b[0m\u001b[1;33m\u001b[0m\u001b[1;33m\u001b[0m\u001b[0m\n\u001b[0;32m    185\u001b[0m     \u001b[1;32mfor\u001b[0m \u001b[0mi\u001b[0m \u001b[1;32min\u001b[0m \u001b[0mrange\u001b[0m\u001b[1;33m(\u001b[0m\u001b[0mn\u001b[0m\u001b[1;33m)\u001b[0m\u001b[1;33m:\u001b[0m\u001b[1;33m\u001b[0m\u001b[1;33m\u001b[0m\u001b[0m\n\u001b[1;32m--> 186\u001b[1;33m         \u001b[0mgenre\u001b[0m \u001b[1;33m=\u001b[0m \u001b[0moutput_dict_sorted_list\u001b[0m\u001b[1;33m[\u001b[0m\u001b[0mi\u001b[0m\u001b[1;33m]\u001b[0m\u001b[1;33m[\u001b[0m\u001b[1;36m0\u001b[0m\u001b[1;33m]\u001b[0m\u001b[1;33m\u001b[0m\u001b[1;33m\u001b[0m\u001b[0m\n\u001b[0m\u001b[0;32m    187\u001b[0m         \u001b[0mgenre_rating\u001b[0m \u001b[1;33m=\u001b[0m \u001b[0moutput_dict_sorted_list\u001b[0m\u001b[1;33m[\u001b[0m\u001b[0mi\u001b[0m\u001b[1;33m]\u001b[0m\u001b[1;33m[\u001b[0m\u001b[1;36m1\u001b[0m\u001b[1;33m]\u001b[0m\u001b[1;33m\u001b[0m\u001b[1;33m\u001b[0m\u001b[0m\n\u001b[0;32m    188\u001b[0m         \u001b[0moutput_dict2\u001b[0m\u001b[1;33m[\u001b[0m\u001b[0mgenre\u001b[0m\u001b[1;33m]\u001b[0m \u001b[1;33m=\u001b[0m \u001b[0mgenre_rating\u001b[0m\u001b[1;33m\u001b[0m\u001b[1;33m\u001b[0m\u001b[0m\n",
      "\u001b[1;31mIndexError\u001b[0m: list index out of range"
     ]
    }
   ],
   "source": [
    "topGenres = genre_popularity(genreDict, averageRatingData)"
   ]
  },
  {
   "cell_type": "markdown",
   "id": "5887b34d-2d34-4ac6-af4f-76e9a8588954",
   "metadata": {},
   "source": [
    "*Should this error occur*"
   ]
  },
  {
   "cell_type": "code",
   "execution_count": 21,
   "id": "94588db4-5ad9-4cc8-8e60-ae9acd85b3d4",
   "metadata": {},
   "outputs": [],
   "source": [
    "topGenresN = genre_popularity(genreDict, averageRatingData, 3)"
   ]
  },
  {
   "cell_type": "code",
   "execution_count": 22,
   "id": "93f82517-c33c-4cbf-86e4-f7e09008a2cc",
   "metadata": {},
   "outputs": [
    {
     "data": {
      "text/plain": [
       "{'Action': 3.527777777777778, 'Comedy': 3.5, 'Adventure': 3.361111111111111}"
      ]
     },
     "execution_count": 22,
     "metadata": {},
     "output_type": "execute_result"
    }
   ],
   "source": [
    "topGenresN"
   ]
  },
  {
   "cell_type": "markdown",
   "id": "15416c2f-3118-476d-8e1c-cd3f8efc5a2a",
   "metadata": {},
   "source": [
    "**Task 4.1:**"
   ]
  },
  {
   "cell_type": "code",
   "execution_count": 27,
   "id": "57104f50-c907-4b46-a8d1-ffa47625f169",
   "metadata": {},
   "outputs": [],
   "source": [
    "userRatings = read_user_ratings('movieRatingSample.txt')"
   ]
  },
  {
   "cell_type": "code",
   "execution_count": 28,
   "id": "b26a9107-e1e3-4c32-9eb0-ae543c1d7208",
   "metadata": {},
   "outputs": [
    {
     "data": {
      "text/plain": [
       "{1: [('Toy Story (1995)', 4.0),\n",
       "  ('Grumpier Old Men (1995)', 4.0),\n",
       "  ('Heat (1995)', 4.0)],\n",
       " 5: [('Toy Story (1995)', 4.0)],\n",
       " 7: [('Toy Story (1995)', 4.5)],\n",
       " 15: [('Toy Story (1995)', 2.5)],\n",
       " 17: [('Toy Story (1995)', 4.5)],\n",
       " 18: [('Toy Story (1995)', 3.5),\n",
       "  ('Jumanji (1995)', 3.0),\n",
       "  ('Heat (1995)', 4.0)],\n",
       " 6: [('Jumanji (1995)', 4.0),\n",
       "  ('Tom and Huck (1995)', 3.0),\n",
       "  ('Grumpier Old Men (1995)', 5.0),\n",
       "  ('Waiting to Exhale (1995)', 3.0),\n",
       "  ('Father of the Bride Part II (1995)', 5.0),\n",
       "  ('Heat (1995)', 4.0),\n",
       "  ('GoldenEye (1995)', 3.0)],\n",
       " 8: [('Jumanji (1995)', 4.0), ('GoldenEye (1995)', 2.0)],\n",
       " 19: [('Jumanji (1995)', 3.0),\n",
       "  ('Grumpier Old Men (1995)', 3.0),\n",
       "  ('GoldenEye (1995)', 2.0)],\n",
       " 20: [('Jumanji (1995)', 3.0), ('Tom and Huck (1995)', 1.0)],\n",
       " 21: [('Jumanji (1995)', 3.5), ('GoldenEye (1995)', 5.0)],\n",
       " 43: [('Tom and Huck (1995)', 5.0),\n",
       "  ('Grumpier Old Men (1995)', 5.0),\n",
       "  ('Father of the Bride Part II (1995)', 5.0)],\n",
       " 274: [('Tom and Huck (1995)', 3.0)],\n",
       " 372: [('Tom and Huck (1995)', 2.0)],\n",
       " 414: [('Tom and Huck (1995)', 3.0)],\n",
       " 32: [('Grumpier Old Men (1995)', 3.0)],\n",
       " 42: [('Grumpier Old Men (1995)', 4.0)],\n",
       " 14: [('Waiting to Exhale (1995)', 3.0)],\n",
       " 84: [('Waiting to Exhale (1995)', 3.0)],\n",
       " 162: [('Waiting to Exhale (1995)', 3.0)],\n",
       " 262: [('Waiting to Exhale (1995)', 1.0)],\n",
       " 411: [('Waiting to Exhale (1995)', 2.0)],\n",
       " 31: [('Father of the Bride Part II (1995)', 3.0)],\n",
       " 45: [('Father of the Bride Part II (1995)', 3.0)],\n",
       " 58: [('Father of the Bride Part II (1995)', 4.0)],\n",
       " 66: [('Father of the Bride Part II (1995)', 4.0)],\n",
       " 11: [('Heat (1995)', 5.0), ('GoldenEye (1995)', 3.0)],\n",
       " 23: [('Heat (1995)', 4.0)],\n",
       " 24: [('Heat (1995)', 4.5)],\n",
       " 151: [('Sudden Death (1995)', 4.0)],\n",
       " 179: [('Sudden Death (1995)', 3.0)],\n",
       " 217: [('Sudden Death (1995)', 3.0)],\n",
       " 269: [('Sudden Death (1995)', 2.0)],\n",
       " 270: [('Sudden Death (1995)', 3.0)],\n",
       " 337: [('Sudden Death (1995)', 5.0)],\n",
       " 26: [('GoldenEye (1995)', 3.0)]}"
      ]
     },
     "execution_count": 28,
     "metadata": {},
     "output_type": "execute_result"
    }
   ],
   "source": [
    "userRatings"
   ]
  },
  {
   "cell_type": "markdown",
   "id": "c293d4d3-eda1-4eea-a338-3a9c9a92e780",
   "metadata": {},
   "source": [
    "**Task 4.2:**"
   ]
  },
  {
   "cell_type": "code",
   "execution_count": 29,
   "id": "2066bf27-1c3c-4b78-b467-af3a80fea440",
   "metadata": {},
   "outputs": [],
   "source": [
    "topGenre = get_user_genre(6, userRatings, genreData)"
   ]
  },
  {
   "cell_type": "code",
   "execution_count": 30,
   "id": "125fbdff-156d-4804-befb-255b1eaa118e",
   "metadata": {},
   "outputs": [
    {
     "data": {
      "text/plain": [
       "'Comedy'"
      ]
     },
     "execution_count": 30,
     "metadata": {},
     "output_type": "execute_result"
    }
   ],
   "source": [
    "topGenre"
   ]
  },
  {
   "cell_type": "markdown",
   "id": "0dc2d751-ff9f-4cca-8f86-a082a46e2429",
   "metadata": {},
   "source": [
    "**Task 4.3:**"
   ]
  },
  {
   "cell_type": "code",
   "execution_count": 31,
   "id": "34231737-5181-4581-a182-bc4da79c0a4b",
   "metadata": {},
   "outputs": [],
   "source": [
    "recommendMovies = recommend_movies(6, userRatings, genreData, averageRatingData)"
   ]
  },
  {
   "cell_type": "code",
   "execution_count": 32,
   "id": "c83ed0da-3f96-47c1-87c9-7d0d197c87c0",
   "metadata": {},
   "outputs": [
    {
     "data": {
      "text/plain": [
       "{}"
      ]
     },
     "execution_count": 32,
     "metadata": {},
     "output_type": "execute_result"
    }
   ],
   "source": [
    "recommendMovies"
   ]
  },
  {
   "cell_type": "markdown",
   "id": "2dcdd0b2-e0bf-403b-a4d5-713d37d4de78",
   "metadata": {},
   "source": [
    "*Is this the correct output?*"
   ]
  },
  {
   "cell_type": "code",
   "execution_count": 33,
   "id": "e9f3dd67-b0f0-4227-a42f-2bb856e06494",
   "metadata": {},
   "outputs": [],
   "source": [
    "recommendMovies = recommend_movies(414, userRatings, genreData, averageRatingData)"
   ]
  },
  {
   "cell_type": "code",
   "execution_count": 34,
   "id": "2bc47e88-437c-4e9b-afca-86f7ea289095",
   "metadata": {},
   "outputs": [
    {
     "data": {
      "text/plain": [
       "{'Toy Story (1995)': 3.8333333333333335, 'Jumanji (1995)': 3.4166666666666665}"
      ]
     },
     "execution_count": 34,
     "metadata": {},
     "output_type": "execute_result"
    }
   ],
   "source": [
    "recommendMovies"
   ]
  },
  {
   "cell_type": "markdown",
   "id": "90b1f4f0-194f-48d5-bdb1-05868f3375e8",
   "metadata": {},
   "source": [
    "# Test with empty .txt files:"
   ]
  },
  {
   "cell_type": "markdown",
   "id": "12b3a394-d498-4a26-92fd-9da9342b5230",
   "metadata": {},
   "source": [
    "**Task 1.1**"
   ]
  },
  {
   "cell_type": "code",
   "execution_count": 25,
   "id": "70eaf436-fbc7-4d87-8298-3d6695c919b2",
   "metadata": {},
   "outputs": [],
   "source": [
    "emptyRatingsData = read_ratings_data('emptyMovieRatingSample.txt')"
   ]
  },
  {
   "cell_type": "code",
   "execution_count": 26,
   "id": "86e34ea1-396c-46b1-a42e-86b39110d62c",
   "metadata": {},
   "outputs": [
    {
     "data": {
      "text/plain": [
       "{}"
      ]
     },
     "execution_count": 26,
     "metadata": {},
     "output_type": "execute_result"
    }
   ],
   "source": [
    "emptyRatingsData"
   ]
  },
  {
   "cell_type": "markdown",
   "id": "e35a2556-508f-4273-af20-72c565791043",
   "metadata": {},
   "source": [
    "**Task 1.2**"
   ]
  },
  {
   "cell_type": "code",
   "execution_count": 27,
   "id": "fc5311d4-318c-4152-8840-b1b4e9ec25b7",
   "metadata": {},
   "outputs": [],
   "source": [
    "emptyGenreData = read_movie_genre(\"emptyGenreMovieSample.txt\")"
   ]
  },
  {
   "cell_type": "code",
   "execution_count": 28,
   "id": "aee6f436-5c83-4d06-ae23-29882e510372",
   "metadata": {},
   "outputs": [
    {
     "data": {
      "text/plain": [
       "{}"
      ]
     },
     "execution_count": 28,
     "metadata": {},
     "output_type": "execute_result"
    }
   ],
   "source": [
    "emptyGenreData"
   ]
  },
  {
   "cell_type": "markdown",
   "id": "433a6384-d60b-4fc7-8240-3780546d66c5",
   "metadata": {},
   "source": [
    "**Task 2.1**"
   ]
  },
  {
   "cell_type": "code",
   "execution_count": 29,
   "id": "f7b4df8d-27b2-4030-9b46-7cb6366318c5",
   "metadata": {},
   "outputs": [],
   "source": [
    "emptyGenreDict = create_genre_dict(emptyGenreData)"
   ]
  },
  {
   "cell_type": "code",
   "execution_count": 30,
   "id": "2c9f6874-0c7a-46f8-b086-0d69f89f6686",
   "metadata": {},
   "outputs": [
    {
     "data": {
      "text/plain": [
       "{}"
      ]
     },
     "execution_count": 30,
     "metadata": {},
     "output_type": "execute_result"
    }
   ],
   "source": [
    "emptyGenreDict"
   ]
  },
  {
   "cell_type": "markdown",
   "id": "2449f4ca-bac2-454f-bfd4-77e0a8d5701a",
   "metadata": {},
   "source": [
    "**Task 2.2**"
   ]
  },
  {
   "cell_type": "code",
   "execution_count": 32,
   "id": "31e3231a-6575-4d8f-ab18-37f76b340025",
   "metadata": {},
   "outputs": [],
   "source": [
    "emptyAverageRatingData = calculate_average_rating(emptyRatingsData)"
   ]
  },
  {
   "cell_type": "code",
   "execution_count": 33,
   "id": "b1d332c0-4101-49c7-810d-ab3e8fa3fe16",
   "metadata": {},
   "outputs": [
    {
     "data": {
      "text/plain": [
       "{}"
      ]
     },
     "execution_count": 33,
     "metadata": {},
     "output_type": "execute_result"
    }
   ],
   "source": [
    "emptyAverageRatingData"
   ]
  },
  {
   "cell_type": "markdown",
   "id": "9c05dabb-5a95-40f1-b20d-ba8773c9593b",
   "metadata": {},
   "source": [
    "**Task 3.1**"
   ]
  },
  {
   "cell_type": "code",
   "execution_count": 34,
   "id": "dc6eaf0a-7c49-4eea-bcb0-95af63019ba3",
   "metadata": {},
   "outputs": [],
   "source": [
    "emptyPopularMovies = get_popular_movies(emptyAverageRatingData)"
   ]
  },
  {
   "cell_type": "code",
   "execution_count": 35,
   "id": "5581f5a1-aea3-4bc9-a669-bb56d4548108",
   "metadata": {},
   "outputs": [
    {
     "data": {
      "text/plain": [
       "{}"
      ]
     },
     "execution_count": 35,
     "metadata": {},
     "output_type": "execute_result"
    }
   ],
   "source": [
    "emptyPopularMovies"
   ]
  },
  {
   "cell_type": "markdown",
   "id": "ec7c796a-ada7-41d9-af07-2ee5a20e2cd6",
   "metadata": {},
   "source": [
    "**Task 3.2**"
   ]
  },
  {
   "cell_type": "code",
   "execution_count": 36,
   "id": "00bc58a1-56ef-4756-af5a-10ed2e231432",
   "metadata": {},
   "outputs": [],
   "source": [
    "emptyFilteredMovies = filter_movies(emptyAverageRatingData)"
   ]
  },
  {
   "cell_type": "code",
   "execution_count": 37,
   "id": "da755502-f29a-40df-8656-9cb7350f76db",
   "metadata": {},
   "outputs": [
    {
     "data": {
      "text/plain": [
       "{}"
      ]
     },
     "execution_count": 37,
     "metadata": {},
     "output_type": "execute_result"
    }
   ],
   "source": [
    "emptyFilteredMovies"
   ]
  },
  {
   "cell_type": "markdown",
   "id": "848047f5-9166-4317-8092-2b86d9b8f6a3",
   "metadata": {},
   "source": [
    "**Task 3.3**"
   ]
  },
  {
   "cell_type": "code",
   "execution_count": 38,
   "id": "5a0465f8-d878-4b07-a9f8-fc0a35c22a1d",
   "metadata": {},
   "outputs": [
    {
     "ename": "KeyError",
     "evalue": "'Action'",
     "output_type": "error",
     "traceback": [
      "\u001b[1;31m---------------------------------------------------------------------------\u001b[0m",
      "\u001b[1;31mKeyError\u001b[0m                                  Traceback (most recent call last)",
      "\u001b[1;32m<ipython-input-38-59aae592e738>\u001b[0m in \u001b[0;36m<module>\u001b[1;34m\u001b[0m\n\u001b[1;32m----> 1\u001b[1;33m \u001b[0memptyPopularInGenre\u001b[0m \u001b[1;33m=\u001b[0m \u001b[0mget_popular_in_genre\u001b[0m\u001b[1;33m(\u001b[0m\u001b[1;34m'Action'\u001b[0m\u001b[1;33m,\u001b[0m \u001b[0memptyGenreDict\u001b[0m\u001b[1;33m,\u001b[0m \u001b[0memptyAverageRatingData\u001b[0m\u001b[1;33m)\u001b[0m\u001b[1;33m\u001b[0m\u001b[1;33m\u001b[0m\u001b[0m\n\u001b[0m",
      "\u001b[1;32m<ipython-input-1-090bc691ed1c>\u001b[0m in \u001b[0;36mget_popular_in_genre\u001b[1;34m(genre, genre_to_movies_dict, movie_average_rating_dict, n)\u001b[0m\n\u001b[0;32m    119\u001b[0m \u001b[1;33m\u001b[0m\u001b[0m\n\u001b[0;32m    120\u001b[0m \u001b[1;33m\u001b[0m\u001b[0m\n\u001b[1;32m--> 121\u001b[1;33m     \u001b[0mlist_of_movies_of_genre\u001b[0m \u001b[1;33m=\u001b[0m \u001b[0mgenre_to_movies_dict\u001b[0m\u001b[1;33m[\u001b[0m\u001b[0mgenre\u001b[0m\u001b[1;33m]\u001b[0m \u001b[1;31m#get list of movies of given genre\u001b[0m\u001b[1;33m\u001b[0m\u001b[1;33m\u001b[0m\u001b[0m\n\u001b[0m\u001b[0;32m    122\u001b[0m \u001b[1;33m\u001b[0m\u001b[0m\n\u001b[0;32m    123\u001b[0m \u001b[1;33m\u001b[0m\u001b[0m\n",
      "\u001b[1;31mKeyError\u001b[0m: 'Action'"
     ]
    }
   ],
   "source": [
    "emptyPopularInGenre = get_popular_in_genre('Action', emptyGenreDict, emptyAverageRatingData)"
   ]
  },
  {
   "cell_type": "code",
   "execution_count": 39,
   "id": "0ac1d69b-bf2c-4f22-89c3-029d3291ec6e",
   "metadata": {},
   "outputs": [
    {
     "ename": "NameError",
     "evalue": "name 'emptyPopularInGenre' is not defined",
     "output_type": "error",
     "traceback": [
      "\u001b[1;31m---------------------------------------------------------------------------\u001b[0m",
      "\u001b[1;31mNameError\u001b[0m                                 Traceback (most recent call last)",
      "\u001b[1;32m<ipython-input-39-5d89e4e53ad0>\u001b[0m in \u001b[0;36m<module>\u001b[1;34m\u001b[0m\n\u001b[1;32m----> 1\u001b[1;33m \u001b[0memptyPopularInGenre\u001b[0m\u001b[1;33m\u001b[0m\u001b[1;33m\u001b[0m\u001b[0m\n\u001b[0m",
      "\u001b[1;31mNameError\u001b[0m: name 'emptyPopularInGenre' is not defined"
     ]
    }
   ],
   "source": [
    "emptyPopularInGenre"
   ]
  },
  {
   "cell_type": "markdown",
   "id": "38bf7112-7d14-4393-80d4-447e4234a4b8",
   "metadata": {},
   "source": [
    "*Is this the correct output?*"
   ]
  },
  {
   "cell_type": "markdown",
   "id": "99ac0dac-ebf2-4dc6-84f4-6ea423edca53",
   "metadata": {},
   "source": [
    "**Task 3.4**"
   ]
  },
  {
   "cell_type": "code",
   "execution_count": 40,
   "id": "be5f84e1-b2cf-489b-8d86-1eedc109421d",
   "metadata": {},
   "outputs": [
    {
     "ename": "KeyError",
     "evalue": "'Action'",
     "output_type": "error",
     "traceback": [
      "\u001b[1;31m---------------------------------------------------------------------------\u001b[0m",
      "\u001b[1;31mKeyError\u001b[0m                                  Traceback (most recent call last)",
      "\u001b[1;32m<ipython-input-40-84de75a40036>\u001b[0m in \u001b[0;36m<module>\u001b[1;34m\u001b[0m\n\u001b[1;32m----> 1\u001b[1;33m \u001b[0memptyAverageGenreRating\u001b[0m \u001b[1;33m=\u001b[0m \u001b[0mget_genre_rating\u001b[0m\u001b[1;33m(\u001b[0m\u001b[1;34m'Action'\u001b[0m\u001b[1;33m,\u001b[0m \u001b[0memptyGenreDict\u001b[0m\u001b[1;33m,\u001b[0m \u001b[0memptyAverageRatingData\u001b[0m\u001b[1;33m)\u001b[0m\u001b[1;33m\u001b[0m\u001b[1;33m\u001b[0m\u001b[0m\n\u001b[0m",
      "\u001b[1;32m<ipython-input-1-090bc691ed1c>\u001b[0m in \u001b[0;36mget_genre_rating\u001b[1;34m(genre, genre_to_movie_dict, movie_avg_rating_dict)\u001b[0m\n\u001b[0;32m    147\u001b[0m \u001b[1;32mdef\u001b[0m \u001b[0mget_genre_rating\u001b[0m\u001b[1;33m(\u001b[0m\u001b[0mgenre\u001b[0m\u001b[1;33m,\u001b[0m \u001b[0mgenre_to_movie_dict\u001b[0m\u001b[1;33m,\u001b[0m \u001b[0mmovie_avg_rating_dict\u001b[0m\u001b[1;33m)\u001b[0m\u001b[1;33m:\u001b[0m\u001b[1;33m\u001b[0m\u001b[1;33m\u001b[0m\u001b[0m\n\u001b[0;32m    148\u001b[0m     \u001b[0moutput_dict\u001b[0m \u001b[1;33m=\u001b[0m \u001b[1;33m{\u001b[0m\u001b[1;33m}\u001b[0m\u001b[1;33m\u001b[0m\u001b[1;33m\u001b[0m\u001b[0m\n\u001b[1;32m--> 149\u001b[1;33m     \u001b[0mlist_of_movies_of_genre\u001b[0m \u001b[1;33m=\u001b[0m \u001b[0mgenre_to_movie_dict\u001b[0m\u001b[1;33m[\u001b[0m\u001b[0mgenre\u001b[0m\u001b[1;33m]\u001b[0m \u001b[1;31m# list of all movies of given genre\u001b[0m\u001b[1;33m\u001b[0m\u001b[1;33m\u001b[0m\u001b[0m\n\u001b[0m\u001b[0;32m    150\u001b[0m \u001b[1;33m\u001b[0m\u001b[0m\n\u001b[0;32m    151\u001b[0m     \u001b[1;32mfor\u001b[0m \u001b[0mmovie\u001b[0m \u001b[1;32min\u001b[0m \u001b[0mlist_of_movies_of_genre\u001b[0m\u001b[1;33m:\u001b[0m \u001b[1;31m#for each movie of genre in list\u001b[0m\u001b[1;33m\u001b[0m\u001b[1;33m\u001b[0m\u001b[0m\n",
      "\u001b[1;31mKeyError\u001b[0m: 'Action'"
     ]
    }
   ],
   "source": [
    "emptyAverageGenreRating = get_genre_rating('Action', emptyGenreDict, emptyAverageRatingData)"
   ]
  },
  {
   "cell_type": "code",
   "execution_count": 41,
   "id": "75f399f5-d35a-4a1b-adfc-a2e94aa0e0f5",
   "metadata": {},
   "outputs": [
    {
     "ename": "NameError",
     "evalue": "name 'emptyAverageGenreRating' is not defined",
     "output_type": "error",
     "traceback": [
      "\u001b[1;31m---------------------------------------------------------------------------\u001b[0m",
      "\u001b[1;31mNameError\u001b[0m                                 Traceback (most recent call last)",
      "\u001b[1;32m<ipython-input-41-d3b4ab349dc0>\u001b[0m in \u001b[0;36m<module>\u001b[1;34m\u001b[0m\n\u001b[1;32m----> 1\u001b[1;33m \u001b[0memptyAverageGenreRating\u001b[0m\u001b[1;33m\u001b[0m\u001b[1;33m\u001b[0m\u001b[0m\n\u001b[0m",
      "\u001b[1;31mNameError\u001b[0m: name 'emptyAverageGenreRating' is not defined"
     ]
    }
   ],
   "source": [
    "emptyAverageGenreRating"
   ]
  },
  {
   "cell_type": "markdown",
   "id": "69343a99-0100-4e9b-8591-83cad339388a",
   "metadata": {},
   "source": [
    "*Is this the correct output?*"
   ]
  },
  {
   "cell_type": "markdown",
   "id": "94e61907-de96-4773-b662-9542c88a0cf0",
   "metadata": {},
   "source": [
    "**Task 3.5**"
   ]
  },
  {
   "cell_type": "code",
   "execution_count": 42,
   "id": "8629b1e8-c659-422d-8f05-463e01b137f1",
   "metadata": {},
   "outputs": [
    {
     "ename": "IndexError",
     "evalue": "list index out of range",
     "output_type": "error",
     "traceback": [
      "\u001b[1;31m---------------------------------------------------------------------------\u001b[0m",
      "\u001b[1;31mIndexError\u001b[0m                                Traceback (most recent call last)",
      "\u001b[1;32m<ipython-input-42-b7781d748ddb>\u001b[0m in \u001b[0;36m<module>\u001b[1;34m\u001b[0m\n\u001b[1;32m----> 1\u001b[1;33m \u001b[0memptyTopGenres\u001b[0m \u001b[1;33m=\u001b[0m \u001b[0mgenre_popularity\u001b[0m\u001b[1;33m(\u001b[0m\u001b[0memptyGenreDict\u001b[0m\u001b[1;33m,\u001b[0m \u001b[0memptyAverageRatingData\u001b[0m\u001b[1;33m)\u001b[0m\u001b[1;33m\u001b[0m\u001b[1;33m\u001b[0m\u001b[0m\n\u001b[0m",
      "\u001b[1;32m<ipython-input-1-090bc691ed1c>\u001b[0m in \u001b[0;36mgenre_popularity\u001b[1;34m(genre_to_movies_dict, movie_avg_rating_dict, n)\u001b[0m\n\u001b[0;32m    184\u001b[0m     \u001b[0moutput_dict_sorted_list\u001b[0m \u001b[1;33m=\u001b[0m \u001b[0msorted\u001b[0m\u001b[1;33m(\u001b[0m\u001b[0moutput_dict\u001b[0m\u001b[1;33m.\u001b[0m\u001b[0mitems\u001b[0m\u001b[1;33m(\u001b[0m\u001b[1;33m)\u001b[0m\u001b[1;33m,\u001b[0m \u001b[0mreverse\u001b[0m \u001b[1;33m=\u001b[0m \u001b[1;32mTrue\u001b[0m\u001b[1;33m,\u001b[0m \u001b[0mkey\u001b[0m \u001b[1;33m=\u001b[0m \u001b[1;32mlambda\u001b[0m \u001b[0mrating\u001b[0m\u001b[1;33m:\u001b[0m \u001b[0mrating\u001b[0m\u001b[1;33m[\u001b[0m\u001b[1;36m1\u001b[0m\u001b[1;33m]\u001b[0m\u001b[1;33m)\u001b[0m\u001b[1;33m\u001b[0m\u001b[1;33m\u001b[0m\u001b[0m\n\u001b[0;32m    185\u001b[0m     \u001b[1;32mfor\u001b[0m \u001b[0mi\u001b[0m \u001b[1;32min\u001b[0m \u001b[0mrange\u001b[0m\u001b[1;33m(\u001b[0m\u001b[0mn\u001b[0m\u001b[1;33m)\u001b[0m\u001b[1;33m:\u001b[0m\u001b[1;33m\u001b[0m\u001b[1;33m\u001b[0m\u001b[0m\n\u001b[1;32m--> 186\u001b[1;33m         \u001b[0mgenre\u001b[0m \u001b[1;33m=\u001b[0m \u001b[0moutput_dict_sorted_list\u001b[0m\u001b[1;33m[\u001b[0m\u001b[0mi\u001b[0m\u001b[1;33m]\u001b[0m\u001b[1;33m[\u001b[0m\u001b[1;36m0\u001b[0m\u001b[1;33m]\u001b[0m\u001b[1;33m\u001b[0m\u001b[1;33m\u001b[0m\u001b[0m\n\u001b[0m\u001b[0;32m    187\u001b[0m         \u001b[0mgenre_rating\u001b[0m \u001b[1;33m=\u001b[0m \u001b[0moutput_dict_sorted_list\u001b[0m\u001b[1;33m[\u001b[0m\u001b[0mi\u001b[0m\u001b[1;33m]\u001b[0m\u001b[1;33m[\u001b[0m\u001b[1;36m1\u001b[0m\u001b[1;33m]\u001b[0m\u001b[1;33m\u001b[0m\u001b[1;33m\u001b[0m\u001b[0m\n\u001b[0;32m    188\u001b[0m         \u001b[0moutput_dict2\u001b[0m\u001b[1;33m[\u001b[0m\u001b[0mgenre\u001b[0m\u001b[1;33m]\u001b[0m \u001b[1;33m=\u001b[0m \u001b[0mgenre_rating\u001b[0m\u001b[1;33m\u001b[0m\u001b[1;33m\u001b[0m\u001b[0m\n",
      "\u001b[1;31mIndexError\u001b[0m: list index out of range"
     ]
    }
   ],
   "source": [
    "emptyTopGenres = genre_popularity(emptyGenreDict, emptyAverageRatingData)"
   ]
  },
  {
   "cell_type": "code",
   "execution_count": 43,
   "id": "0fa20741-344f-4296-b3b6-271236f4b4d9",
   "metadata": {},
   "outputs": [
    {
     "ename": "NameError",
     "evalue": "name 'emptyTopGenres' is not defined",
     "output_type": "error",
     "traceback": [
      "\u001b[1;31m---------------------------------------------------------------------------\u001b[0m",
      "\u001b[1;31mNameError\u001b[0m                                 Traceback (most recent call last)",
      "\u001b[1;32m<ipython-input-43-7ebdf3a89f45>\u001b[0m in \u001b[0;36m<module>\u001b[1;34m\u001b[0m\n\u001b[1;32m----> 1\u001b[1;33m \u001b[0memptyTopGenres\u001b[0m\u001b[1;33m\u001b[0m\u001b[1;33m\u001b[0m\u001b[0m\n\u001b[0m",
      "\u001b[1;31mNameError\u001b[0m: name 'emptyTopGenres' is not defined"
     ]
    }
   ],
   "source": [
    "emptyTopGenres"
   ]
  },
  {
   "cell_type": "markdown",
   "id": "7f9285c5-375d-4a78-ac15-6086301a4e8a",
   "metadata": {},
   "source": [
    "*Is this the correct output?*"
   ]
  },
  {
   "cell_type": "code",
   "execution_count": 44,
   "id": "bec747b6-dab1-4793-9a64-107765f3b97a",
   "metadata": {},
   "outputs": [],
   "source": [
    "emptyTopGenres = genre_popularity(emptyGenreDict, emptyAverageRatingData, 0)"
   ]
  },
  {
   "cell_type": "code",
   "execution_count": 45,
   "id": "1da292be-784a-462d-b851-f28bedded808",
   "metadata": {},
   "outputs": [
    {
     "data": {
      "text/plain": [
       "{}"
      ]
     },
     "execution_count": 45,
     "metadata": {},
     "output_type": "execute_result"
    }
   ],
   "source": [
    "emptyTopGenres"
   ]
  },
  {
   "cell_type": "markdown",
   "id": "ac32fb6f-c987-474a-b1e4-ab19b5d8e1b7",
   "metadata": {},
   "source": [
    "**Task 4.1**"
   ]
  },
  {
   "cell_type": "code",
   "execution_count": 46,
   "id": "51d2d8b0-2d93-4ff1-a288-41f37f3b539e",
   "metadata": {},
   "outputs": [],
   "source": [
    "emptyUserRatings = read_user_ratings('emptyMovieRatingSample.txt')"
   ]
  },
  {
   "cell_type": "code",
   "execution_count": 47,
   "id": "ba241cc9-b784-45c6-af85-6082af9aab97",
   "metadata": {},
   "outputs": [
    {
     "data": {
      "text/plain": [
       "{}"
      ]
     },
     "execution_count": 47,
     "metadata": {},
     "output_type": "execute_result"
    }
   ],
   "source": [
    "emptyUserRatings"
   ]
  },
  {
   "cell_type": "markdown",
   "id": "e90255e3-9105-4a8c-9a85-f126bcb8f2ee",
   "metadata": {},
   "source": [
    "**Task 4.2**"
   ]
  },
  {
   "cell_type": "code",
   "execution_count": 48,
   "id": "0839f2ea-2eff-42ea-bafa-e946c31106df",
   "metadata": {},
   "outputs": [
    {
     "ename": "KeyError",
     "evalue": "6",
     "output_type": "error",
     "traceback": [
      "\u001b[1;31m---------------------------------------------------------------------------\u001b[0m",
      "\u001b[1;31mKeyError\u001b[0m                                  Traceback (most recent call last)",
      "\u001b[1;32m<ipython-input-48-319b229f9c4e>\u001b[0m in \u001b[0;36m<module>\u001b[1;34m\u001b[0m\n\u001b[1;32m----> 1\u001b[1;33m \u001b[0memptyTopGenre\u001b[0m \u001b[1;33m=\u001b[0m \u001b[0mget_user_genre\u001b[0m\u001b[1;33m(\u001b[0m\u001b[1;36m6\u001b[0m\u001b[1;33m,\u001b[0m \u001b[0memptyUserRatings\u001b[0m\u001b[1;33m,\u001b[0m \u001b[0memptyGenreData\u001b[0m\u001b[1;33m)\u001b[0m\u001b[1;33m\u001b[0m\u001b[1;33m\u001b[0m\u001b[0m\n\u001b[0m",
      "\u001b[1;32m<ipython-input-1-090bc691ed1c>\u001b[0m in \u001b[0;36mget_user_genre\u001b[1;34m(userID, user_to_movies_dict, movie_to_genre_dict)\u001b[0m\n\u001b[0;32m    223\u001b[0m \u001b[1;33m\u001b[0m\u001b[0m\n\u001b[0;32m    224\u001b[0m \u001b[1;32mdef\u001b[0m \u001b[0mget_user_genre\u001b[0m\u001b[1;33m(\u001b[0m\u001b[0muserID\u001b[0m\u001b[1;33m,\u001b[0m \u001b[0muser_to_movies_dict\u001b[0m\u001b[1;33m,\u001b[0m \u001b[0mmovie_to_genre_dict\u001b[0m\u001b[1;33m)\u001b[0m\u001b[1;33m:\u001b[0m \u001b[1;31m#Returns top genre of user\u001b[0m\u001b[1;33m\u001b[0m\u001b[1;33m\u001b[0m\u001b[0m\n\u001b[1;32m--> 225\u001b[1;33m     \u001b[0mmovies_rating_tuple_of_user_list\u001b[0m \u001b[1;33m=\u001b[0m \u001b[0muser_to_movies_dict\u001b[0m\u001b[1;33m[\u001b[0m\u001b[0muserID\u001b[0m\u001b[1;33m]\u001b[0m \u001b[1;31m#gets all movies and corresponding rating that user rated\u001b[0m\u001b[1;33m\u001b[0m\u001b[1;33m\u001b[0m\u001b[0m\n\u001b[0m\u001b[0;32m    226\u001b[0m     \u001b[0mhelper_dict\u001b[0m \u001b[1;33m=\u001b[0m \u001b[1;33m{\u001b[0m\u001b[1;33m}\u001b[0m \u001b[1;31m#genre: [sum rating, numbOfRatings] dictionary. USE THIS TO GET AVG RATING OF MOVIES GENRE WISE\u001b[0m\u001b[1;33m\u001b[0m\u001b[1;33m\u001b[0m\u001b[0m\n\u001b[0;32m    227\u001b[0m \u001b[1;33m\u001b[0m\u001b[0m\n",
      "\u001b[1;31mKeyError\u001b[0m: 6"
     ]
    }
   ],
   "source": [
    "emptyTopGenre = get_user_genre(6, emptyUserRatings, emptyGenreData)"
   ]
  },
  {
   "cell_type": "markdown",
   "id": "60e115ae-2d71-4f44-a0e6-478fd188b2d3",
   "metadata": {},
   "source": [
    "*Is this the correct output?*"
   ]
  },
  {
   "cell_type": "markdown",
   "id": "3407c3a5-55a5-4ccc-8940-a17a0f9e8f0b",
   "metadata": {},
   "source": [
    "**Task 4.3**"
   ]
  },
  {
   "cell_type": "code",
   "execution_count": 49,
   "id": "dfbc0879-75ea-4a8f-9df0-a58f0e333579",
   "metadata": {},
   "outputs": [
    {
     "ename": "KeyError",
     "evalue": "1",
     "output_type": "error",
     "traceback": [
      "\u001b[1;31m---------------------------------------------------------------------------\u001b[0m",
      "\u001b[1;31mKeyError\u001b[0m                                  Traceback (most recent call last)",
      "\u001b[1;32m<ipython-input-49-d048c07fae02>\u001b[0m in \u001b[0;36m<module>\u001b[1;34m\u001b[0m\n\u001b[1;32m----> 1\u001b[1;33m \u001b[0memptyRecommendMovies\u001b[0m \u001b[1;33m=\u001b[0m \u001b[0mrecommend_movies\u001b[0m\u001b[1;33m(\u001b[0m\u001b[1;36m1\u001b[0m\u001b[1;33m,\u001b[0m \u001b[0memptyUserRatings\u001b[0m\u001b[1;33m,\u001b[0m \u001b[0memptyGenreData\u001b[0m\u001b[1;33m,\u001b[0m \u001b[0memptyAverageRatingData\u001b[0m\u001b[1;33m)\u001b[0m\u001b[1;33m\u001b[0m\u001b[1;33m\u001b[0m\u001b[0m\n\u001b[0m",
      "\u001b[1;32m<ipython-input-1-090bc691ed1c>\u001b[0m in \u001b[0;36mrecommend_movies\u001b[1;34m(userID, user_to_movies_dict, movie_to_genre_dict, movie_to_avg_rating_dict)\u001b[0m\n\u001b[0;32m    255\u001b[0m \u001b[1;32mdef\u001b[0m \u001b[0mrecommend_movies\u001b[0m\u001b[1;33m(\u001b[0m\u001b[0muserID\u001b[0m\u001b[1;33m,\u001b[0m \u001b[0muser_to_movies_dict\u001b[0m\u001b[1;33m,\u001b[0m \u001b[0mmovie_to_genre_dict\u001b[0m\u001b[1;33m,\u001b[0m \u001b[0mmovie_to_avg_rating_dict\u001b[0m\u001b[1;33m)\u001b[0m\u001b[1;33m:\u001b[0m \u001b[1;31m#ASK if score for this depends on if get_user_genre is correct\u001b[0m\u001b[1;33m\u001b[0m\u001b[1;33m\u001b[0m\u001b[0m\n\u001b[0;32m    256\u001b[0m     \u001b[0moutput_dict\u001b[0m \u001b[1;33m=\u001b[0m \u001b[1;33m{\u001b[0m\u001b[1;33m}\u001b[0m \u001b[1;31m#dict of movie to average rating.\u001b[0m\u001b[1;33m\u001b[0m\u001b[1;33m\u001b[0m\u001b[0m\n\u001b[1;32m--> 257\u001b[1;33m     \u001b[0musers_top_genre\u001b[0m \u001b[1;33m=\u001b[0m \u001b[0mget_user_genre\u001b[0m\u001b[1;33m(\u001b[0m\u001b[0muserID\u001b[0m\u001b[1;33m,\u001b[0m \u001b[0muser_to_movies_dict\u001b[0m\u001b[1;33m,\u001b[0m \u001b[0mmovie_to_genre_dict\u001b[0m\u001b[1;33m)\u001b[0m \u001b[1;31m#user's top genre\u001b[0m\u001b[1;33m\u001b[0m\u001b[1;33m\u001b[0m\u001b[0m\n\u001b[0m\u001b[0;32m    258\u001b[0m \u001b[1;33m\u001b[0m\u001b[0m\n\u001b[0;32m    259\u001b[0m     \u001b[0mlist_of_movies_of_genre\u001b[0m \u001b[1;33m=\u001b[0m \u001b[1;33m[\u001b[0m\u001b[1;33m]\u001b[0m\u001b[1;33m\u001b[0m\u001b[1;33m\u001b[0m\u001b[0m\n",
      "\u001b[1;32m<ipython-input-1-090bc691ed1c>\u001b[0m in \u001b[0;36mget_user_genre\u001b[1;34m(userID, user_to_movies_dict, movie_to_genre_dict)\u001b[0m\n\u001b[0;32m    223\u001b[0m \u001b[1;33m\u001b[0m\u001b[0m\n\u001b[0;32m    224\u001b[0m \u001b[1;32mdef\u001b[0m \u001b[0mget_user_genre\u001b[0m\u001b[1;33m(\u001b[0m\u001b[0muserID\u001b[0m\u001b[1;33m,\u001b[0m \u001b[0muser_to_movies_dict\u001b[0m\u001b[1;33m,\u001b[0m \u001b[0mmovie_to_genre_dict\u001b[0m\u001b[1;33m)\u001b[0m\u001b[1;33m:\u001b[0m \u001b[1;31m#Returns top genre of user\u001b[0m\u001b[1;33m\u001b[0m\u001b[1;33m\u001b[0m\u001b[0m\n\u001b[1;32m--> 225\u001b[1;33m     \u001b[0mmovies_rating_tuple_of_user_list\u001b[0m \u001b[1;33m=\u001b[0m \u001b[0muser_to_movies_dict\u001b[0m\u001b[1;33m[\u001b[0m\u001b[0muserID\u001b[0m\u001b[1;33m]\u001b[0m \u001b[1;31m#gets all movies and corresponding rating that user rated\u001b[0m\u001b[1;33m\u001b[0m\u001b[1;33m\u001b[0m\u001b[0m\n\u001b[0m\u001b[0;32m    226\u001b[0m     \u001b[0mhelper_dict\u001b[0m \u001b[1;33m=\u001b[0m \u001b[1;33m{\u001b[0m\u001b[1;33m}\u001b[0m \u001b[1;31m#genre: [sum rating, numbOfRatings] dictionary. USE THIS TO GET AVG RATING OF MOVIES GENRE WISE\u001b[0m\u001b[1;33m\u001b[0m\u001b[1;33m\u001b[0m\u001b[0m\n\u001b[0;32m    227\u001b[0m \u001b[1;33m\u001b[0m\u001b[0m\n",
      "\u001b[1;31mKeyError\u001b[0m: 1"
     ]
    }
   ],
   "source": [
    "emptyRecommendMovies = recommend_movies(1, emptyUserRatings, emptyGenreData, emptyAverageRatingData)"
   ]
  },
  {
   "cell_type": "markdown",
   "id": "7d9196f4-b908-412b-abf3-ef23fc21a2d3",
   "metadata": {},
   "source": [
    "*Is this the correct output*"
   ]
  },
  {
   "cell_type": "markdown",
   "id": "05eec704-efae-4261-b81d-43dc9124e26e",
   "metadata": {},
   "source": [
    "# Test with large sample file"
   ]
  },
  {
   "cell_type": "markdown",
   "id": "bdc84a37-c21b-4848-bebe-3e63747c8c0d",
   "metadata": {},
   "source": [
    "**Task 1.1:**"
   ]
  },
  {
   "cell_type": "code",
   "execution_count": 50,
   "id": "413b94d7-dc3c-47ab-959a-ccf81640dcfb",
   "metadata": {},
   "outputs": [],
   "source": [
    "largeRatingsData = read_ratings_data('largeMovieRatingSample.txt')"
   ]
  },
  {
   "cell_type": "code",
   "execution_count": 51,
   "id": "1335b2c3-d65b-4757-8f50-f760031d085b",
   "metadata": {},
   "outputs": [
    {
     "data": {
      "text/plain": [
       "{'movieAdventure1 (year)': [1.0, 2.0, 3.0, 4.0, 5.0],\n",
       " 'movieAdventure2 (year)': [2.0, 2.0, 3.0, 4.0, 5.0],\n",
       " 'movieAdventure3 (year)': [3.0, 3.0, 3.0, 4.0, 5.0],\n",
       " 'movieAdventure4 (year)': [4.0, 4.0, 4.0, 4.0, 5.0],\n",
       " 'movieAdventure5 (year)': [5.0, 5.0, 5.0, 5.0, 5.0],\n",
       " 'movieAdventure6 (year)': [1.0, 5.0, 5.0, 5.0, 5.0],\n",
       " 'movieAdventure7 (year)': [2.0, 5.0, 5.0, 5.0, 5.0],\n",
       " 'movieAdventure8 (year)': [3.0, 5.0, 5.0, 5.0, 5.0],\n",
       " 'movieAdventure9 (year)': [4.0, 5.0, 5.0, 5.0, 5.0],\n",
       " 'movieAdventure10 (year)': [1.1, 2.2, 3.3, 4.4, 5.0],\n",
       " 'movieComedy1 (year)': [1.0, 2.0, 3.0, 4.0, 5.0],\n",
       " 'movieComedy2 (year)': [2.0, 2.0, 3.0, 4.0, 5.0],\n",
       " 'movieComedy3 (year)': [3.0, 3.0, 3.0, 4.0, 5.0],\n",
       " 'movieComedy4 (year)': [4.0, 4.0, 4.0, 4.0, 5.0],\n",
       " 'movieComedy5 (year)': [5.0, 5.0, 5.0, 5.0, 5.0],\n",
       " 'movieComedy6 (year)': [1.0, 5.0, 5.0, 5.0, 5.0],\n",
       " 'movieComedy7 (year)': [2.0, 5.0, 5.0, 5.0, 5.0],\n",
       " 'movieComedy8 (year)': [3.0, 5.0, 5.0, 5.0, 5.0],\n",
       " 'movieComedy9 (year)': [4.0, 5.0, 5.0, 5.0, 5.0],\n",
       " 'movieComedy10 (year)': [1.1, 2.2, 3.3, 4.4, 5.0],\n",
       " 'movieHorror1 (year)': [1.0, 2.0, 3.0, 4.0, 5.0],\n",
       " 'movieHorror2 (year)': [2.0, 2.0, 3.0, 4.0, 5.0],\n",
       " 'movieHorror3 (year)': [3.0, 3.0, 3.0, 4.0, 5.0],\n",
       " 'movieHorror4 (year)': [4.0, 4.0, 4.0, 4.0, 5.0],\n",
       " 'movieHorror5 (year)': [5.0, 5.0, 5.0, 5.0, 5.0],\n",
       " 'movieHorror6 (year)': [1.0, 5.0, 5.0, 5.0, 5.0],\n",
       " 'movieHorror7 (year)': [2.0, 5.0, 5.0, 5.0, 5.0],\n",
       " 'movieHorror8 (year)': [3.0, 5.0, 5.0, 5.0, 5.0],\n",
       " 'movieHorror9 (year)': [4.0, 5.0, 5.0, 5.0, 5.0],\n",
       " 'movieHorror10 (year)': [1.1, 2.2, 3.3, 4.4, 5.0],\n",
       " 'movieAction1 (year)': [1.0, 2.0, 3.0, 4.0, 5.0],\n",
       " 'movieAction2 (year)': [2.0, 2.0, 3.0, 4.0, 5.0],\n",
       " 'movieAction3 (year)': [3.0, 3.0, 3.0, 4.0, 5.0],\n",
       " 'movieAction4 (year)': [4.0, 4.0, 4.0, 4.0, 5.0],\n",
       " 'movieAction5 (year)': [5.0, 5.0, 5.0, 5.0, 5.0],\n",
       " 'movieAction6 (year)': [1.0, 5.0, 5.0, 5.0, 5.0],\n",
       " 'movieAction7 (year)': [2.0, 5.0, 5.0, 5.0, 5.0],\n",
       " 'movieAction8 (year)': [3.0, 5.0, 5.0, 5.0, 5.0],\n",
       " 'movieAction9 (year)': [4.0, 5.0, 5.0, 5.0, 5.0],\n",
       " 'movieAction10 (year)': [1.1, 2.2, 3.3, 4.4, 5.0],\n",
       " 'movieRomance1 (year)': [1.0, 2.0, 3.0, 4.0, 5.0],\n",
       " 'movieRomance2 (year)': [2.0, 2.0, 3.0, 4.0, 5.0],\n",
       " 'movieRomance3 (year)': [3.0, 3.0, 3.0, 4.0, 5.0],\n",
       " 'movieRomance4 (year)': [4.0, 4.0, 4.0, 4.0, 5.0],\n",
       " 'movieRomance5 (year)': [5.0, 5.0, 5.0, 5.0, 5.0],\n",
       " 'movieRomance6 (year)': [1.0, 5.0, 5.0, 5.0, 5.0],\n",
       " 'movieRomance7 (year)': [2.0, 5.0, 5.0, 5.0, 5.0],\n",
       " 'movieRomance8 (year)': [3.0, 5.0, 5.0, 5.0, 5.0],\n",
       " 'movieRomance9 (year)': [4.0, 5.0, 5.0, 5.0, 5.0],\n",
       " 'movieRomance10 (year)': [1.1, 2.2, 3.3, 4.4, 5.0]}"
      ]
     },
     "execution_count": 51,
     "metadata": {},
     "output_type": "execute_result"
    }
   ],
   "source": [
    "largeRatingsData"
   ]
  },
  {
   "cell_type": "markdown",
   "id": "269ba44a-8e10-4068-91e3-05222312a9dc",
   "metadata": {},
   "source": [
    "**Task 1.2:**"
   ]
  },
  {
   "cell_type": "code",
   "execution_count": 52,
   "id": "b132987d-0114-458e-b65a-c1c69a4a1592",
   "metadata": {},
   "outputs": [],
   "source": [
    "largeGenreData = read_movie_genre(\"largeGenreMovieSample.txt\")"
   ]
  },
  {
   "cell_type": "code",
   "execution_count": 53,
   "id": "6ac4150e-86c3-48b2-afe1-ca364ef061f2",
   "metadata": {},
   "outputs": [
    {
     "data": {
      "text/plain": [
       "{'movieAdventure1 (year)': 'Adventure',\n",
       " 'movieAdventure2 (year)': 'Adventure',\n",
       " 'movieAdventure3 (year)': 'Adventure',\n",
       " 'movieAdventure4 (year)': 'Adventure',\n",
       " 'movieAdventure5 (year)': 'Adventure',\n",
       " 'movieAdventure6 (year)': 'Adventure',\n",
       " 'movieAdventure7 (year)': 'Adventure',\n",
       " 'movieAdventure8 (year)': 'Adventure',\n",
       " 'movieAdventure9 (year)': 'Adventure',\n",
       " 'movieAdventure10 (year)': 'Adventure',\n",
       " 'movieComedy1 (year)': 'Comedy',\n",
       " 'movieComedy2 (year)': 'Comedy',\n",
       " 'movieComedy3 (year)': 'Comedy',\n",
       " 'movieComedy4 (year)': 'Comedy',\n",
       " 'movieComedy5 (year)': 'Comedy',\n",
       " 'movieComedy6 (year)': 'Comedy',\n",
       " 'movieComedy7 (year)': 'Comedy',\n",
       " 'movieComedy8 (year)': 'Comedy',\n",
       " 'movieComedy9 (year)': 'Comedy',\n",
       " 'movieComedy10 (year)': 'Comedy',\n",
       " 'movieHorror1 (year)': 'Horror',\n",
       " 'movieHorror2 (year)': 'Horror',\n",
       " 'movieHorror3 (year)': 'Horror',\n",
       " 'movieHorror4 (year)': 'Horror',\n",
       " 'movieHorror5 (year)': 'Horror',\n",
       " 'movieHorror6 (year)': 'Horror',\n",
       " 'movieHorror7 (year)': 'Horror',\n",
       " 'movieHorror8 (year)': 'Horror',\n",
       " 'movieHorror9 (year)': 'Horror',\n",
       " 'movieHorror10 (year)': 'Horror',\n",
       " 'movieAction1 (year)': 'Action',\n",
       " 'movieAction2 (year)': 'Action',\n",
       " 'movieAction3 (year)': 'Action',\n",
       " 'movieAction4 (year)': 'Action',\n",
       " 'movieAction5 (year)': 'Action',\n",
       " 'movieAction6 (year)': 'Action',\n",
       " 'movieAction7 (year)': 'Action',\n",
       " 'movieAction8 (year)': 'Action',\n",
       " 'movieAction9 (year)': 'Action',\n",
       " 'movieAction10 (year)': 'Action',\n",
       " 'movieRomance1 (year)': 'Romance',\n",
       " 'movieRomance2 (year)': 'Romance',\n",
       " 'movieRomance3 (year)': 'Romance',\n",
       " 'movieRomance4 (year)': 'Romance',\n",
       " 'movieRomance5 (year)': 'Romance',\n",
       " 'movieRomance6 (year)': 'Romance',\n",
       " 'movieRomance7 (year)': 'Romance',\n",
       " 'movieRomance8 (year)': 'Romance',\n",
       " 'movieRomance9 (year)': 'Romance',\n",
       " 'movieRomance10 (year)': 'Romance'}"
      ]
     },
     "execution_count": 53,
     "metadata": {},
     "output_type": "execute_result"
    }
   ],
   "source": [
    "largeGenreData"
   ]
  },
  {
   "cell_type": "markdown",
   "id": "323e45d2-479c-4519-be56-fca422e77635",
   "metadata": {},
   "source": [
    "**Task 2.1:**"
   ]
  },
  {
   "cell_type": "code",
   "execution_count": 54,
   "id": "3795aa45-f572-45e0-9749-1aef275fc646",
   "metadata": {},
   "outputs": [],
   "source": [
    "largeGenreDict = create_genre_dict(largeGenreData)"
   ]
  },
  {
   "cell_type": "code",
   "execution_count": 55,
   "id": "6bbbec9a-324f-4b73-a539-cfb3cb0eb5e1",
   "metadata": {},
   "outputs": [
    {
     "data": {
      "text/plain": [
       "{'Adventure': ['movieAdventure1 (year)',\n",
       "  'movieAdventure2 (year)',\n",
       "  'movieAdventure3 (year)',\n",
       "  'movieAdventure4 (year)',\n",
       "  'movieAdventure5 (year)',\n",
       "  'movieAdventure6 (year)',\n",
       "  'movieAdventure7 (year)',\n",
       "  'movieAdventure8 (year)',\n",
       "  'movieAdventure9 (year)',\n",
       "  'movieAdventure10 (year)'],\n",
       " 'Comedy': ['movieComedy1 (year)',\n",
       "  'movieComedy2 (year)',\n",
       "  'movieComedy3 (year)',\n",
       "  'movieComedy4 (year)',\n",
       "  'movieComedy5 (year)',\n",
       "  'movieComedy6 (year)',\n",
       "  'movieComedy7 (year)',\n",
       "  'movieComedy8 (year)',\n",
       "  'movieComedy9 (year)',\n",
       "  'movieComedy10 (year)'],\n",
       " 'Horror': ['movieHorror1 (year)',\n",
       "  'movieHorror2 (year)',\n",
       "  'movieHorror3 (year)',\n",
       "  'movieHorror4 (year)',\n",
       "  'movieHorror5 (year)',\n",
       "  'movieHorror6 (year)',\n",
       "  'movieHorror7 (year)',\n",
       "  'movieHorror8 (year)',\n",
       "  'movieHorror9 (year)',\n",
       "  'movieHorror10 (year)'],\n",
       " 'Action': ['movieAction1 (year)',\n",
       "  'movieAction2 (year)',\n",
       "  'movieAction3 (year)',\n",
       "  'movieAction4 (year)',\n",
       "  'movieAction5 (year)',\n",
       "  'movieAction6 (year)',\n",
       "  'movieAction7 (year)',\n",
       "  'movieAction8 (year)',\n",
       "  'movieAction9 (year)',\n",
       "  'movieAction10 (year)'],\n",
       " 'Romance': ['movieRomance1 (year)',\n",
       "  'movieRomance2 (year)',\n",
       "  'movieRomance3 (year)',\n",
       "  'movieRomance4 (year)',\n",
       "  'movieRomance5 (year)',\n",
       "  'movieRomance6 (year)',\n",
       "  'movieRomance7 (year)',\n",
       "  'movieRomance8 (year)',\n",
       "  'movieRomance9 (year)',\n",
       "  'movieRomance10 (year)']}"
      ]
     },
     "execution_count": 55,
     "metadata": {},
     "output_type": "execute_result"
    }
   ],
   "source": [
    "largeGenreDict"
   ]
  },
  {
   "cell_type": "markdown",
   "id": "3c916203-7157-4785-a696-e3183caee33d",
   "metadata": {},
   "source": [
    "**Task 2.2:**"
   ]
  },
  {
   "cell_type": "code",
   "execution_count": 56,
   "id": "bdd83ba3-c0a8-4ed5-8b87-ec707d688bee",
   "metadata": {},
   "outputs": [],
   "source": [
    "largeAverageRatingData = calculate_average_rating(largeRatingsData)"
   ]
  },
  {
   "cell_type": "code",
   "execution_count": 57,
   "id": "58c06f70-7ef4-4098-9770-4cff8e44938b",
   "metadata": {},
   "outputs": [
    {
     "data": {
      "text/plain": [
       "{'movieAdventure1 (year)': 3.0,\n",
       " 'movieAdventure2 (year)': 3.2,\n",
       " 'movieAdventure3 (year)': 3.6,\n",
       " 'movieAdventure4 (year)': 4.2,\n",
       " 'movieAdventure5 (year)': 5.0,\n",
       " 'movieAdventure6 (year)': 4.2,\n",
       " 'movieAdventure7 (year)': 4.4,\n",
       " 'movieAdventure8 (year)': 4.6,\n",
       " 'movieAdventure9 (year)': 4.8,\n",
       " 'movieAdventure10 (year)': 3.2,\n",
       " 'movieComedy1 (year)': 3.0,\n",
       " 'movieComedy2 (year)': 3.2,\n",
       " 'movieComedy3 (year)': 3.6,\n",
       " 'movieComedy4 (year)': 4.2,\n",
       " 'movieComedy5 (year)': 5.0,\n",
       " 'movieComedy6 (year)': 4.2,\n",
       " 'movieComedy7 (year)': 4.4,\n",
       " 'movieComedy8 (year)': 4.6,\n",
       " 'movieComedy9 (year)': 4.8,\n",
       " 'movieComedy10 (year)': 3.2,\n",
       " 'movieHorror1 (year)': 3.0,\n",
       " 'movieHorror2 (year)': 3.2,\n",
       " 'movieHorror3 (year)': 3.6,\n",
       " 'movieHorror4 (year)': 4.2,\n",
       " 'movieHorror5 (year)': 5.0,\n",
       " 'movieHorror6 (year)': 4.2,\n",
       " 'movieHorror7 (year)': 4.4,\n",
       " 'movieHorror8 (year)': 4.6,\n",
       " 'movieHorror9 (year)': 4.8,\n",
       " 'movieHorror10 (year)': 3.2,\n",
       " 'movieAction1 (year)': 3.0,\n",
       " 'movieAction2 (year)': 3.2,\n",
       " 'movieAction3 (year)': 3.6,\n",
       " 'movieAction4 (year)': 4.2,\n",
       " 'movieAction5 (year)': 5.0,\n",
       " 'movieAction6 (year)': 4.2,\n",
       " 'movieAction7 (year)': 4.4,\n",
       " 'movieAction8 (year)': 4.6,\n",
       " 'movieAction9 (year)': 4.8,\n",
       " 'movieAction10 (year)': 3.2,\n",
       " 'movieRomance1 (year)': 3.0,\n",
       " 'movieRomance2 (year)': 3.2,\n",
       " 'movieRomance3 (year)': 3.6,\n",
       " 'movieRomance4 (year)': 4.2,\n",
       " 'movieRomance5 (year)': 5.0,\n",
       " 'movieRomance6 (year)': 4.2,\n",
       " 'movieRomance7 (year)': 4.4,\n",
       " 'movieRomance8 (year)': 4.6,\n",
       " 'movieRomance9 (year)': 4.8,\n",
       " 'movieRomance10 (year)': 3.2}"
      ]
     },
     "execution_count": 57,
     "metadata": {},
     "output_type": "execute_result"
    }
   ],
   "source": [
    "largeAverageRatingData"
   ]
  },
  {
   "cell_type": "markdown",
   "id": "a5f1df06-f360-4498-87c6-deb3523267b2",
   "metadata": {},
   "source": [
    "**Task 3.1:**"
   ]
  },
  {
   "cell_type": "code",
   "execution_count": 58,
   "id": "3be659f7-da5d-4187-a955-224254462d70",
   "metadata": {},
   "outputs": [],
   "source": [
    "largePopularMovies = get_popular_movies(largeAverageRatingData)"
   ]
  },
  {
   "cell_type": "code",
   "execution_count": 59,
   "id": "f1a60432-9a9e-43ba-a225-ee4f005dbe5a",
   "metadata": {},
   "outputs": [
    {
     "data": {
      "text/plain": [
       "{'movieAdventure5 (year)': 5.0,\n",
       " 'movieComedy5 (year)': 5.0,\n",
       " 'movieHorror5 (year)': 5.0,\n",
       " 'movieAction5 (year)': 5.0,\n",
       " 'movieRomance5 (year)': 5.0,\n",
       " 'movieAdventure9 (year)': 4.8,\n",
       " 'movieComedy9 (year)': 4.8,\n",
       " 'movieHorror9 (year)': 4.8,\n",
       " 'movieAction9 (year)': 4.8,\n",
       " 'movieRomance9 (year)': 4.8}"
      ]
     },
     "execution_count": 59,
     "metadata": {},
     "output_type": "execute_result"
    }
   ],
   "source": [
    "largePopularMovies"
   ]
  },
  {
   "cell_type": "markdown",
   "id": "367dc6c0-09ce-4689-ac16-f5bac1d968ab",
   "metadata": {},
   "source": [
    "**Task 3.2:**"
   ]
  },
  {
   "cell_type": "code",
   "execution_count": 60,
   "id": "aa0e657e-c6b1-4dc2-8706-700285823907",
   "metadata": {},
   "outputs": [],
   "source": [
    "largeFilteredMovies = filter_movies(largeAverageRatingData)"
   ]
  },
  {
   "cell_type": "code",
   "execution_count": 61,
   "id": "b94b65ad-a652-4853-b35c-449174c8c12b",
   "metadata": {},
   "outputs": [
    {
     "data": {
      "text/plain": [
       "{'movieAdventure1 (year)': 3.0,\n",
       " 'movieAdventure2 (year)': 3.2,\n",
       " 'movieAdventure3 (year)': 3.6,\n",
       " 'movieAdventure4 (year)': 4.2,\n",
       " 'movieAdventure5 (year)': 5.0,\n",
       " 'movieAdventure6 (year)': 4.2,\n",
       " 'movieAdventure7 (year)': 4.4,\n",
       " 'movieAdventure8 (year)': 4.6,\n",
       " 'movieAdventure9 (year)': 4.8,\n",
       " 'movieAdventure10 (year)': 3.2,\n",
       " 'movieComedy1 (year)': 3.0,\n",
       " 'movieComedy2 (year)': 3.2,\n",
       " 'movieComedy3 (year)': 3.6,\n",
       " 'movieComedy4 (year)': 4.2,\n",
       " 'movieComedy5 (year)': 5.0,\n",
       " 'movieComedy6 (year)': 4.2,\n",
       " 'movieComedy7 (year)': 4.4,\n",
       " 'movieComedy8 (year)': 4.6,\n",
       " 'movieComedy9 (year)': 4.8,\n",
       " 'movieComedy10 (year)': 3.2,\n",
       " 'movieHorror1 (year)': 3.0,\n",
       " 'movieHorror2 (year)': 3.2,\n",
       " 'movieHorror3 (year)': 3.6,\n",
       " 'movieHorror4 (year)': 4.2,\n",
       " 'movieHorror5 (year)': 5.0,\n",
       " 'movieHorror6 (year)': 4.2,\n",
       " 'movieHorror7 (year)': 4.4,\n",
       " 'movieHorror8 (year)': 4.6,\n",
       " 'movieHorror9 (year)': 4.8,\n",
       " 'movieHorror10 (year)': 3.2,\n",
       " 'movieAction1 (year)': 3.0,\n",
       " 'movieAction2 (year)': 3.2,\n",
       " 'movieAction3 (year)': 3.6,\n",
       " 'movieAction4 (year)': 4.2,\n",
       " 'movieAction5 (year)': 5.0,\n",
       " 'movieAction6 (year)': 4.2,\n",
       " 'movieAction7 (year)': 4.4,\n",
       " 'movieAction8 (year)': 4.6,\n",
       " 'movieAction9 (year)': 4.8,\n",
       " 'movieAction10 (year)': 3.2,\n",
       " 'movieRomance1 (year)': 3.0,\n",
       " 'movieRomance2 (year)': 3.2,\n",
       " 'movieRomance3 (year)': 3.6,\n",
       " 'movieRomance4 (year)': 4.2,\n",
       " 'movieRomance5 (year)': 5.0,\n",
       " 'movieRomance6 (year)': 4.2,\n",
       " 'movieRomance7 (year)': 4.4,\n",
       " 'movieRomance8 (year)': 4.6,\n",
       " 'movieRomance9 (year)': 4.8,\n",
       " 'movieRomance10 (year)': 3.2}"
      ]
     },
     "execution_count": 61,
     "metadata": {},
     "output_type": "execute_result"
    }
   ],
   "source": [
    "largeFilteredMovies"
   ]
  },
  {
   "cell_type": "code",
   "execution_count": 83,
   "id": "8a3ad5e0-33e7-4a14-bed3-6d81f2b0974f",
   "metadata": {},
   "outputs": [],
   "source": [
    "largeFilteredMoviesN = filter_movies(largeAverageRatingData, 4)"
   ]
  },
  {
   "cell_type": "code",
   "execution_count": 84,
   "id": "cb1837df-cdf4-4b99-bd90-8b5e0df1323c",
   "metadata": {},
   "outputs": [
    {
     "data": {
      "text/plain": [
       "{'movieAdventure4 (year)': 4.2,\n",
       " 'movieAdventure5 (year)': 5.0,\n",
       " 'movieAdventure6 (year)': 4.2,\n",
       " 'movieAdventure7 (year)': 4.4,\n",
       " 'movieAdventure8 (year)': 4.6,\n",
       " 'movieAdventure9 (year)': 4.8,\n",
       " 'movieComedy4 (year)': 4.2,\n",
       " 'movieComedy5 (year)': 5.0,\n",
       " 'movieComedy6 (year)': 4.2,\n",
       " 'movieComedy7 (year)': 4.4,\n",
       " 'movieComedy8 (year)': 4.6,\n",
       " 'movieComedy9 (year)': 4.8,\n",
       " 'movieHorror4 (year)': 4.2,\n",
       " 'movieHorror5 (year)': 5.0,\n",
       " 'movieHorror6 (year)': 4.2,\n",
       " 'movieHorror7 (year)': 4.4,\n",
       " 'movieHorror8 (year)': 4.6,\n",
       " 'movieHorror9 (year)': 4.8,\n",
       " 'movieAction4 (year)': 4.2,\n",
       " 'movieAction5 (year)': 5.0,\n",
       " 'movieAction6 (year)': 4.2,\n",
       " 'movieAction7 (year)': 4.4,\n",
       " 'movieAction8 (year)': 4.6,\n",
       " 'movieAction9 (year)': 4.8,\n",
       " 'movieRomance4 (year)': 4.2,\n",
       " 'movieRomance5 (year)': 5.0,\n",
       " 'movieRomance6 (year)': 4.2,\n",
       " 'movieRomance7 (year)': 4.4,\n",
       " 'movieRomance8 (year)': 4.6,\n",
       " 'movieRomance9 (year)': 4.8}"
      ]
     },
     "execution_count": 84,
     "metadata": {},
     "output_type": "execute_result"
    }
   ],
   "source": [
    "largeFilteredMoviesN"
   ]
  },
  {
   "cell_type": "code",
   "execution_count": 85,
   "id": "b32e628e-1db2-4a90-851a-0573d93e0bed",
   "metadata": {},
   "outputs": [],
   "source": [
    "largeFilteredMoviesM = filter_movies(largeAverageRatingData, 5)"
   ]
  },
  {
   "cell_type": "code",
   "execution_count": 86,
   "id": "adbb2c8a-a891-4bdf-bb8c-cc021bfb0ce0",
   "metadata": {},
   "outputs": [
    {
     "data": {
      "text/plain": [
       "{'movieAdventure5 (year)': 5.0,\n",
       " 'movieComedy5 (year)': 5.0,\n",
       " 'movieHorror5 (year)': 5.0,\n",
       " 'movieAction5 (year)': 5.0,\n",
       " 'movieRomance5 (year)': 5.0}"
      ]
     },
     "execution_count": 86,
     "metadata": {},
     "output_type": "execute_result"
    }
   ],
   "source": [
    "largeFilteredMoviesM"
   ]
  },
  {
   "cell_type": "markdown",
   "id": "add7e4ba-2c61-464f-a098-035676442e70",
   "metadata": {},
   "source": [
    "*This output is correct*"
   ]
  },
  {
   "cell_type": "markdown",
   "id": "9dfd9572-4f1b-4a63-8341-9ae702ced108",
   "metadata": {},
   "source": [
    "**Task 3.3:**"
   ]
  },
  {
   "cell_type": "code",
   "execution_count": 64,
   "id": "499d0bda-61e7-4e76-9dee-3e9b71a5a2d2",
   "metadata": {},
   "outputs": [],
   "source": [
    "largePopularInGenre = get_popular_in_genre('Action', largeGenreDict, largeAverageRatingData)"
   ]
  },
  {
   "cell_type": "code",
   "execution_count": 65,
   "id": "1f3bf730-f605-477d-af48-0cf3515ea15f",
   "metadata": {},
   "outputs": [
    {
     "data": {
      "text/plain": [
       "{'movieAction5 (year)': 5.0,\n",
       " 'movieAction9 (year)': 4.8,\n",
       " 'movieAction8 (year)': 4.6,\n",
       " 'movieAction7 (year)': 4.4,\n",
       " 'movieAction4 (year)': 4.2}"
      ]
     },
     "execution_count": 65,
     "metadata": {},
     "output_type": "execute_result"
    }
   ],
   "source": [
    "largePopularInGenre"
   ]
  },
  {
   "cell_type": "markdown",
   "id": "5b925856-b9fc-4df5-9d1d-081e35b2c1db",
   "metadata": {},
   "source": [
    "*This output is correct*"
   ]
  },
  {
   "cell_type": "markdown",
   "id": "456cc258-f3ba-4e1e-8642-3d56af97ddba",
   "metadata": {},
   "source": [
    "**Task 3.4:**"
   ]
  },
  {
   "cell_type": "code",
   "execution_count": 66,
   "id": "3f96eaec-74fc-45fa-bb82-87892a120e64",
   "metadata": {},
   "outputs": [],
   "source": [
    "largeAverageGenreRating = get_genre_rating('Action', largeGenreDict, largeAverageRatingData)"
   ]
  },
  {
   "cell_type": "code",
   "execution_count": 67,
   "id": "14115015-8ab7-4c25-9105-cb1d52dadff7",
   "metadata": {},
   "outputs": [
    {
     "data": {
      "text/plain": [
       "4.0200000000000005"
      ]
     },
     "execution_count": 67,
     "metadata": {},
     "output_type": "execute_result"
    }
   ],
   "source": [
    "largeAverageGenreRating"
   ]
  },
  {
   "cell_type": "markdown",
   "id": "e48ae818-25a1-41a1-a025-ea83c8ce9750",
   "metadata": {},
   "source": [
    "**Task 3.5:**"
   ]
  },
  {
   "cell_type": "code",
   "execution_count": 68,
   "id": "7d038048-70a2-4ed5-830a-7a232287cca1",
   "metadata": {},
   "outputs": [],
   "source": [
    "largeTopGenres = genre_popularity(largeGenreDict, largeAverageRatingData)"
   ]
  },
  {
   "cell_type": "code",
   "execution_count": 69,
   "id": "5a436cf6-2446-4e83-845c-1433e339e1e9",
   "metadata": {},
   "outputs": [
    {
     "data": {
      "text/plain": [
       "{'Adventure': 4.0200000000000005,\n",
       " 'Comedy': 4.0200000000000005,\n",
       " 'Horror': 4.0200000000000005,\n",
       " 'Action': 4.0200000000000005,\n",
       " 'Romance': 4.0200000000000005}"
      ]
     },
     "execution_count": 69,
     "metadata": {},
     "output_type": "execute_result"
    }
   ],
   "source": [
    "largeTopGenres"
   ]
  },
  {
   "cell_type": "code",
   "execution_count": 70,
   "id": "715a32b7-4a87-4f18-8cb9-45edb14a7c4f",
   "metadata": {},
   "outputs": [],
   "source": [
    "largeTopGenresN = genre_popularity(largeGenreDict, largeAverageRatingData, 4)"
   ]
  },
  {
   "cell_type": "code",
   "execution_count": 71,
   "id": "d49abd8e-61e3-4f87-869b-1659871cd4d6",
   "metadata": {},
   "outputs": [
    {
     "data": {
      "text/plain": [
       "{'Adventure': 4.0200000000000005,\n",
       " 'Comedy': 4.0200000000000005,\n",
       " 'Horror': 4.0200000000000005,\n",
       " 'Action': 4.0200000000000005,\n",
       " 'Romance': 4.0200000000000005}"
      ]
     },
     "execution_count": 71,
     "metadata": {},
     "output_type": "execute_result"
    }
   ],
   "source": [
    "largeTopGenres"
   ]
  },
  {
   "cell_type": "markdown",
   "id": "db9ad237-95e9-4d4b-852b-b4b216e4c909",
   "metadata": {},
   "source": [
    "*Is this the correct output when all the genres are tied?*"
   ]
  },
  {
   "cell_type": "markdown",
   "id": "7c71adff-b4ae-4750-8395-d446776ceae8",
   "metadata": {},
   "source": [
    "**Task 4.1:**"
   ]
  },
  {
   "cell_type": "code",
   "execution_count": 72,
   "id": "6eaf8974-a3ec-4fcb-8bf9-9eb6cf2a1193",
   "metadata": {},
   "outputs": [],
   "source": [
    "largeUserRatings = read_user_ratings('largeMovieRatingSample.txt')"
   ]
  },
  {
   "cell_type": "code",
   "execution_count": 73,
   "id": "06290891-dee7-46ec-a405-f4c09e14d082",
   "metadata": {},
   "outputs": [
    {
     "data": {
      "text/plain": [
       "{1: [('movieAdventure1 (year)', 1.0),\n",
       "  ('movieAdventure3 (year)', 3.0),\n",
       "  ('movieAdventure5 (year)', 5.0),\n",
       "  ('movieAdventure7 (year)', 2.0),\n",
       "  ('movieAdventure9 (year)', 4.0),\n",
       "  ('movieComedy1 (year)', 1.0),\n",
       "  ('movieComedy3 (year)', 3.0),\n",
       "  ('movieComedy5 (year)', 5.0),\n",
       "  ('movieComedy7 (year)', 2.0),\n",
       "  ('movieComedy9 (year)', 4.0),\n",
       "  ('movieHorror1 (year)', 1.0),\n",
       "  ('movieHorror3 (year)', 3.0),\n",
       "  ('movieHorror5 (year)', 5.0),\n",
       "  ('movieHorror7 (year)', 2.0),\n",
       "  ('movieHorror9 (year)', 4.0),\n",
       "  ('movieAction1 (year)', 1.0),\n",
       "  ('movieAction3 (year)', 3.0),\n",
       "  ('movieAction5 (year)', 5.0),\n",
       "  ('movieAction7 (year)', 2.0),\n",
       "  ('movieAction9 (year)', 4.0),\n",
       "  ('movieRomance1 (year)', 1.0),\n",
       "  ('movieRomance3 (year)', 3.0),\n",
       "  ('movieRomance5 (year)', 5.0),\n",
       "  ('movieRomance7 (year)', 2.0),\n",
       "  ('movieRomance9 (year)', 4.0)],\n",
       " 2: [('movieAdventure1 (year)', 2.0),\n",
       "  ('movieAdventure3 (year)', 3.0),\n",
       "  ('movieAdventure5 (year)', 5.0),\n",
       "  ('movieAdventure7 (year)', 5.0),\n",
       "  ('movieAdventure9 (year)', 5.0),\n",
       "  ('movieComedy1 (year)', 2.0),\n",
       "  ('movieComedy3 (year)', 3.0),\n",
       "  ('movieComedy5 (year)', 5.0),\n",
       "  ('movieComedy7 (year)', 5.0),\n",
       "  ('movieComedy9 (year)', 5.0),\n",
       "  ('movieHorror1 (year)', 2.0),\n",
       "  ('movieHorror3 (year)', 3.0),\n",
       "  ('movieHorror5 (year)', 5.0),\n",
       "  ('movieHorror7 (year)', 5.0),\n",
       "  ('movieHorror9 (year)', 5.0),\n",
       "  ('movieAction1 (year)', 2.0),\n",
       "  ('movieAction3 (year)', 3.0),\n",
       "  ('movieAction5 (year)', 5.0),\n",
       "  ('movieAction7 (year)', 5.0),\n",
       "  ('movieAction9 (year)', 5.0),\n",
       "  ('movieRomance1 (year)', 2.0),\n",
       "  ('movieRomance3 (year)', 3.0),\n",
       "  ('movieRomance5 (year)', 5.0),\n",
       "  ('movieRomance7 (year)', 5.0),\n",
       "  ('movieRomance9 (year)', 5.0)],\n",
       " 3: [('movieAdventure1 (year)', 3.0),\n",
       "  ('movieAdventure3 (year)', 3.0),\n",
       "  ('movieAdventure5 (year)', 5.0),\n",
       "  ('movieAdventure7 (year)', 5.0),\n",
       "  ('movieAdventure9 (year)', 5.0),\n",
       "  ('movieComedy1 (year)', 3.0),\n",
       "  ('movieComedy3 (year)', 3.0),\n",
       "  ('movieComedy5 (year)', 5.0),\n",
       "  ('movieComedy7 (year)', 5.0),\n",
       "  ('movieComedy9 (year)', 5.0),\n",
       "  ('movieHorror1 (year)', 3.0),\n",
       "  ('movieHorror3 (year)', 3.0),\n",
       "  ('movieHorror5 (year)', 5.0),\n",
       "  ('movieHorror7 (year)', 5.0),\n",
       "  ('movieHorror9 (year)', 5.0),\n",
       "  ('movieAction1 (year)', 3.0),\n",
       "  ('movieAction3 (year)', 3.0),\n",
       "  ('movieAction5 (year)', 5.0),\n",
       "  ('movieAction7 (year)', 5.0),\n",
       "  ('movieAction9 (year)', 5.0),\n",
       "  ('movieRomance1 (year)', 3.0),\n",
       "  ('movieRomance3 (year)', 3.0),\n",
       "  ('movieRomance5 (year)', 5.0),\n",
       "  ('movieRomance7 (year)', 5.0),\n",
       "  ('movieRomance9 (year)', 5.0)],\n",
       " 4: [('movieAdventure1 (year)', 4.0),\n",
       "  ('movieAdventure3 (year)', 4.0),\n",
       "  ('movieAdventure5 (year)', 5.0),\n",
       "  ('movieAdventure7 (year)', 5.0),\n",
       "  ('movieAdventure9 (year)', 5.0),\n",
       "  ('movieComedy1 (year)', 4.0),\n",
       "  ('movieComedy3 (year)', 4.0),\n",
       "  ('movieComedy5 (year)', 5.0),\n",
       "  ('movieComedy7 (year)', 5.0),\n",
       "  ('movieComedy9 (year)', 5.0),\n",
       "  ('movieHorror1 (year)', 4.0),\n",
       "  ('movieHorror3 (year)', 4.0),\n",
       "  ('movieHorror5 (year)', 5.0),\n",
       "  ('movieHorror7 (year)', 5.0),\n",
       "  ('movieHorror9 (year)', 5.0),\n",
       "  ('movieAction1 (year)', 4.0),\n",
       "  ('movieAction3 (year)', 4.0),\n",
       "  ('movieAction5 (year)', 5.0),\n",
       "  ('movieAction7 (year)', 5.0),\n",
       "  ('movieAction9 (year)', 5.0),\n",
       "  ('movieRomance1 (year)', 4.0),\n",
       "  ('movieRomance3 (year)', 4.0),\n",
       "  ('movieRomance5 (year)', 5.0),\n",
       "  ('movieRomance7 (year)', 5.0),\n",
       "  ('movieRomance9 (year)', 5.0)],\n",
       " 5: [('movieAdventure1 (year)', 5.0),\n",
       "  ('movieAdventure3 (year)', 5.0),\n",
       "  ('movieAdventure5 (year)', 5.0),\n",
       "  ('movieAdventure7 (year)', 5.0),\n",
       "  ('movieAdventure9 (year)', 5.0),\n",
       "  ('movieComedy1 (year)', 5.0),\n",
       "  ('movieComedy3 (year)', 5.0),\n",
       "  ('movieComedy5 (year)', 5.0),\n",
       "  ('movieComedy7 (year)', 5.0),\n",
       "  ('movieComedy9 (year)', 5.0),\n",
       "  ('movieHorror1 (year)', 5.0),\n",
       "  ('movieHorror3 (year)', 5.0),\n",
       "  ('movieHorror5 (year)', 5.0),\n",
       "  ('movieHorror7 (year)', 5.0),\n",
       "  ('movieHorror9 (year)', 5.0),\n",
       "  ('movieAction1 (year)', 5.0),\n",
       "  ('movieAction3 (year)', 5.0),\n",
       "  ('movieAction5 (year)', 5.0),\n",
       "  ('movieAction7 (year)', 5.0),\n",
       "  ('movieAction9 (year)', 5.0),\n",
       "  ('movieRomance1 (year)', 5.0),\n",
       "  ('movieRomance3 (year)', 5.0),\n",
       "  ('movieRomance5 (year)', 5.0),\n",
       "  ('movieRomance7 (year)', 5.0),\n",
       "  ('movieRomance9 (year)', 5.0)],\n",
       " 6: [('movieAdventure2 (year)', 2.0),\n",
       "  ('movieAdventure4 (year)', 4.0),\n",
       "  ('movieAdventure6 (year)', 1.0),\n",
       "  ('movieAdventure8 (year)', 3.0),\n",
       "  ('movieAdventure10 (year)', 1.1),\n",
       "  ('movieComedy2 (year)', 2.0),\n",
       "  ('movieComedy4 (year)', 4.0),\n",
       "  ('movieComedy6 (year)', 1.0),\n",
       "  ('movieComedy8 (year)', 3.0),\n",
       "  ('movieComedy10 (year)', 1.1),\n",
       "  ('movieHorror2 (year)', 2.0),\n",
       "  ('movieHorror4 (year)', 4.0),\n",
       "  ('movieHorror6 (year)', 1.0),\n",
       "  ('movieHorror8 (year)', 3.0),\n",
       "  ('movieHorror10 (year)', 1.1),\n",
       "  ('movieAction2 (year)', 2.0),\n",
       "  ('movieAction4 (year)', 4.0),\n",
       "  ('movieAction6 (year)', 1.0),\n",
       "  ('movieAction8 (year)', 3.0),\n",
       "  ('movieAction10 (year)', 1.1),\n",
       "  ('movieRomance2 (year)', 2.0),\n",
       "  ('movieRomance4 (year)', 4.0),\n",
       "  ('movieRomance6 (year)', 1.0),\n",
       "  ('movieRomance8 (year)', 3.0),\n",
       "  ('movieRomance10 (year)', 1.1)],\n",
       " 7: [('movieAdventure2 (year)', 2.0),\n",
       "  ('movieAdventure4 (year)', 4.0),\n",
       "  ('movieAdventure6 (year)', 5.0),\n",
       "  ('movieAdventure8 (year)', 5.0),\n",
       "  ('movieAdventure10 (year)', 2.2),\n",
       "  ('movieComedy2 (year)', 2.0),\n",
       "  ('movieComedy4 (year)', 4.0),\n",
       "  ('movieComedy6 (year)', 5.0),\n",
       "  ('movieComedy8 (year)', 5.0),\n",
       "  ('movieComedy10 (year)', 2.2),\n",
       "  ('movieHorror2 (year)', 2.0),\n",
       "  ('movieHorror4 (year)', 4.0),\n",
       "  ('movieHorror6 (year)', 5.0),\n",
       "  ('movieHorror8 (year)', 5.0),\n",
       "  ('movieHorror10 (year)', 2.2),\n",
       "  ('movieAction2 (year)', 2.0),\n",
       "  ('movieAction4 (year)', 4.0),\n",
       "  ('movieAction6 (year)', 5.0),\n",
       "  ('movieAction8 (year)', 5.0),\n",
       "  ('movieAction10 (year)', 2.2),\n",
       "  ('movieRomance2 (year)', 2.0),\n",
       "  ('movieRomance4 (year)', 4.0),\n",
       "  ('movieRomance6 (year)', 5.0),\n",
       "  ('movieRomance8 (year)', 5.0),\n",
       "  ('movieRomance10 (year)', 2.2)],\n",
       " 8: [('movieAdventure2 (year)', 3.0),\n",
       "  ('movieAdventure4 (year)', 4.0),\n",
       "  ('movieAdventure6 (year)', 5.0),\n",
       "  ('movieAdventure8 (year)', 5.0),\n",
       "  ('movieAdventure10 (year)', 3.3),\n",
       "  ('movieComedy2 (year)', 3.0),\n",
       "  ('movieComedy4 (year)', 4.0),\n",
       "  ('movieComedy6 (year)', 5.0),\n",
       "  ('movieComedy8 (year)', 5.0),\n",
       "  ('movieComedy10 (year)', 3.3),\n",
       "  ('movieHorror2 (year)', 3.0),\n",
       "  ('movieHorror4 (year)', 4.0),\n",
       "  ('movieHorror6 (year)', 5.0),\n",
       "  ('movieHorror8 (year)', 5.0),\n",
       "  ('movieHorror10 (year)', 3.3),\n",
       "  ('movieAction2 (year)', 3.0),\n",
       "  ('movieAction4 (year)', 4.0),\n",
       "  ('movieAction6 (year)', 5.0),\n",
       "  ('movieAction8 (year)', 5.0),\n",
       "  ('movieAction10 (year)', 3.3),\n",
       "  ('movieRomance2 (year)', 3.0),\n",
       "  ('movieRomance4 (year)', 4.0),\n",
       "  ('movieRomance6 (year)', 5.0),\n",
       "  ('movieRomance8 (year)', 5.0),\n",
       "  ('movieRomance10 (year)', 3.3)],\n",
       " 9: [('movieAdventure2 (year)', 4.0),\n",
       "  ('movieAdventure4 (year)', 4.0),\n",
       "  ('movieAdventure6 (year)', 5.0),\n",
       "  ('movieAdventure8 (year)', 5.0),\n",
       "  ('movieAdventure10 (year)', 4.4),\n",
       "  ('movieComedy2 (year)', 4.0),\n",
       "  ('movieComedy4 (year)', 4.0),\n",
       "  ('movieComedy6 (year)', 5.0),\n",
       "  ('movieComedy8 (year)', 5.0),\n",
       "  ('movieComedy10 (year)', 4.4),\n",
       "  ('movieHorror2 (year)', 4.0),\n",
       "  ('movieHorror4 (year)', 4.0),\n",
       "  ('movieHorror6 (year)', 5.0),\n",
       "  ('movieHorror8 (year)', 5.0),\n",
       "  ('movieHorror10 (year)', 4.4),\n",
       "  ('movieAction2 (year)', 4.0),\n",
       "  ('movieAction4 (year)', 4.0),\n",
       "  ('movieAction6 (year)', 5.0),\n",
       "  ('movieAction8 (year)', 5.0),\n",
       "  ('movieAction10 (year)', 4.4),\n",
       "  ('movieRomance2 (year)', 4.0),\n",
       "  ('movieRomance4 (year)', 4.0),\n",
       "  ('movieRomance6 (year)', 5.0),\n",
       "  ('movieRomance8 (year)', 5.0),\n",
       "  ('movieRomance10 (year)', 4.4)],\n",
       " 10: [('movieAdventure2 (year)', 5.0),\n",
       "  ('movieAdventure4 (year)', 5.0),\n",
       "  ('movieAdventure6 (year)', 5.0),\n",
       "  ('movieAdventure8 (year)', 5.0),\n",
       "  ('movieAdventure10 (year)', 5.0),\n",
       "  ('movieComedy2 (year)', 5.0),\n",
       "  ('movieComedy4 (year)', 5.0),\n",
       "  ('movieComedy6 (year)', 5.0),\n",
       "  ('movieComedy8 (year)', 5.0),\n",
       "  ('movieComedy10 (year)', 5.0),\n",
       "  ('movieHorror2 (year)', 5.0),\n",
       "  ('movieHorror4 (year)', 5.0),\n",
       "  ('movieHorror6 (year)', 5.0),\n",
       "  ('movieHorror8 (year)', 5.0),\n",
       "  ('movieHorror10 (year)', 5.0),\n",
       "  ('movieAction2 (year)', 5.0),\n",
       "  ('movieAction4 (year)', 5.0),\n",
       "  ('movieAction6 (year)', 5.0),\n",
       "  ('movieAction8 (year)', 5.0),\n",
       "  ('movieAction10 (year)', 5.0),\n",
       "  ('movieRomance2 (year)', 5.0),\n",
       "  ('movieRomance4 (year)', 5.0),\n",
       "  ('movieRomance6 (year)', 5.0),\n",
       "  ('movieRomance8 (year)', 5.0),\n",
       "  ('movieRomance10 (year)', 5.0)]}"
      ]
     },
     "execution_count": 73,
     "metadata": {},
     "output_type": "execute_result"
    }
   ],
   "source": [
    "largeUserRatings"
   ]
  },
  {
   "cell_type": "markdown",
   "id": "cf16f9e4-6bac-4eda-8553-e90b7a50f608",
   "metadata": {},
   "source": [
    "**Task 4.2:**"
   ]
  },
  {
   "cell_type": "code",
   "execution_count": 74,
   "id": "abcdbafc-9cb2-4b2f-a278-61a2a90bb4d9",
   "metadata": {},
   "outputs": [],
   "source": [
    "largeTopGenreNis2 = get_user_genre(2, largeUserRatings, largeGenreData)"
   ]
  },
  {
   "cell_type": "code",
   "execution_count": 75,
   "id": "ddece411-a5ae-4b3c-80c6-26fc035bfd75",
   "metadata": {},
   "outputs": [
    {
     "data": {
      "text/plain": [
       "'Adventure'"
      ]
     },
     "execution_count": 75,
     "metadata": {},
     "output_type": "execute_result"
    }
   ],
   "source": [
    "largeTopGenreNis2"
   ]
  },
  {
   "cell_type": "code",
   "execution_count": 87,
   "id": "64c22e08-c41d-4505-946e-c8404705e803",
   "metadata": {},
   "outputs": [],
   "source": [
    "largeTopGenreNis6 = get_user_genre(6, largeUserRatings, largeGenreData)"
   ]
  },
  {
   "cell_type": "code",
   "execution_count": 88,
   "id": "07566860-66b2-410e-b346-9041e9a6d5dd",
   "metadata": {},
   "outputs": [
    {
     "data": {
      "text/plain": [
       "'Adventure'"
      ]
     },
     "execution_count": 88,
     "metadata": {},
     "output_type": "execute_result"
    }
   ],
   "source": [
    "largeTopGenreNis6"
   ]
  },
  {
   "cell_type": "markdown",
   "id": "682d3b69-eaaf-4f5e-8e67-8ae43fc0b5d6",
   "metadata": {},
   "source": [
    "**Task 4.3:**"
   ]
  },
  {
   "cell_type": "code",
   "execution_count": 78,
   "id": "5a9812c1-ceb5-4f9e-805b-323eb40ee1da",
   "metadata": {},
   "outputs": [],
   "source": [
    "largeRecommendMovies = recommend_movies(6, largeUserRatings, largeGenreData, largeAverageRatingData)"
   ]
  },
  {
   "cell_type": "code",
   "execution_count": 79,
   "id": "f2eb59ca-d44d-409c-b25f-5e47884e9336",
   "metadata": {},
   "outputs": [
    {
     "data": {
      "text/plain": [
       "{'movieAdventure5 (year)': 5.0,\n",
       " 'movieAdventure9 (year)': 4.8,\n",
       " 'movieAdventure7 (year)': 4.4}"
      ]
     },
     "execution_count": 79,
     "metadata": {},
     "output_type": "execute_result"
    }
   ],
   "source": [
    "largeRecommendMovies"
   ]
  },
  {
   "cell_type": "code",
   "execution_count": 80,
   "id": "9ffd88f5-60ba-4fdd-ba41-223888c4a4e0",
   "metadata": {},
   "outputs": [],
   "source": [
    "largeRecommendMoviesNis2 = recommend_movies(2, largeUserRatings, largeGenreData, largeAverageRatingData)"
   ]
  },
  {
   "cell_type": "code",
   "execution_count": 81,
   "id": "c16794b4-c287-4289-83b8-6801b242f07f",
   "metadata": {},
   "outputs": [
    {
     "data": {
      "text/plain": [
       "{'movieAdventure8 (year)': 4.6,\n",
       " 'movieAdventure4 (year)': 4.2,\n",
       " 'movieAdventure6 (year)': 4.2}"
      ]
     },
     "execution_count": 81,
     "metadata": {},
     "output_type": "execute_result"
    }
   ],
   "source": [
    "largeRecommendMoviesNis2"
   ]
  },
  {
   "cell_type": "markdown",
   "id": "d39806d0-e9d8-4a5c-9a49-f73fc5a08b00",
   "metadata": {},
   "source": [
    "*This is the correct output*"
   ]
  }
 ],
 "metadata": {
  "kernelspec": {
   "display_name": "Python 3",
   "language": "python",
   "name": "python3"
  },
  "language_info": {
   "codemirror_mode": {
    "name": "ipython",
    "version": 3
   },
   "file_extension": ".py",
   "mimetype": "text/x-python",
   "name": "python",
   "nbconvert_exporter": "python",
   "pygments_lexer": "ipython3",
   "version": "3.8.8"
  }
 },
 "nbformat": 4,
 "nbformat_minor": 5
}
