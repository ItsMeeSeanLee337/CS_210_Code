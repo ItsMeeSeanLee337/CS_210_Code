{
 "cells": [
  {
   "cell_type": "markdown",
   "metadata": {},
   "source": [
    "### <font color=\"brown\">Problem Set 7: NumPy - Solution</font>"
   ]
  },
  {
   "cell_type": "code",
   "execution_count": 4,
   "metadata": {
    "id": "-anorqYAw2nQ"
   },
   "outputs": [],
   "source": [
    "import numpy as np"
   ]
  },
  {
   "cell_type": "markdown",
   "metadata": {},
   "source": [
    "---"
   ]
  },
  {
   "cell_type": "markdown",
   "metadata": {},
   "source": [
    "#### Problem 1\n",
    "\n",
    "Write a function that takes a 2D ndarray and cycles the rows up by 1 so that the first row becomes the last, the last becomes second-to-last, etc. "
   ]
  },
  {
   "cell_type": "code",
   "execution_count": 89,
   "metadata": {},
   "outputs": [
    {
     "name": "stdout",
     "output_type": "stream",
     "text": [
      "[[4 3 6]\n",
      " [2 9 3]\n",
      " [5 9 4]\n",
      " [1 5 7]] \n",
      "\n",
      "[[2 9 3]\n",
      " [5 9 4]\n",
      " [1 5 7]\n",
      " [4 3 6]]\n"
     ]
    }
   ],
   "source": [
    "def rowcycle(ndarr):\n",
    "    cycle = list(range(1,ndarr.shape[0])) + [0]\n",
    "    return ndarr[cycle]\n",
    "\n",
    "arr2d = np.random.randint(1,13,(4,3))\n",
    "print(arr2d,'\\n')\n",
    "print(rowcycle(arr2d))"
   ]
  },
  {
   "cell_type": "markdown",
   "metadata": {},
   "source": [
    "---"
   ]
  },
  {
   "cell_type": "markdown",
   "metadata": {},
   "source": [
    "#### Problem 2\n",
    "\n",
    "Write a function that takes an ndarray and computes the standard deviation of the values in each row, without using the standard deviation function. It should return an array with these standard deviations. \n",
    "See https://www.mathsisfun.com/data/standard-deviation-formulas.html"
   ]
  },
  {
   "cell_type": "code",
   "execution_count": 153,
   "metadata": {},
   "outputs": [
    {
     "name": "stdout",
     "output_type": "stream",
     "text": [
      "Input array:\n",
      " [[ 3  1 -2]\n",
      " [ 1  8  2]\n",
      " [ 6  1  5]]\n",
      "\n",
      "Row means: [0.66666667 3.66666667 4.        ]\n",
      "\n",
      "Row means, column vector:\n",
      " [[0.66666667]\n",
      " [3.66666667]\n",
      " [4.        ]]\n",
      "\n",
      "Row value minus mean:\n",
      " [[ 2.33333333  0.33333333 -2.66666667]\n",
      " [-2.66666667  4.33333333 -1.66666667]\n",
      " [ 2.         -3.          1.        ]]\n",
      "\n",
      "Differences squared:\n",
      " [[ 5.44444444  0.11111111  7.11111111]\n",
      " [ 7.11111111 18.77777778  2.77777778]\n",
      " [ 4.          9.          1.        ]]\n",
      "\n",
      "Sum of squared differences:\n",
      " [12.66666667 28.66666667 14.        ]\n",
      "\n",
      "Divide by N=3 (number of values in each row):\n",
      " [4.22222222 9.55555556 4.66666667]\n",
      "\n",
      "Standard deviations:\n",
      " [2.05480467 3.09120617 2.1602469 ]\n",
      "\n"
     ]
    }
   ],
   "source": [
    "# Building the solution, one step at a time\n",
    "\n",
    "# 1. Sample 2D ndarray\n",
    "arr = np.array([[3,1,-2],[1,8,2],[6,1,5]])\n",
    "print(f'Input array:\\n {arr}\\n')\n",
    "\n",
    "# 2. Mean for each row\n",
    "mn = np.mean(arr,axis=1)\n",
    "print(f'Row means: {mn}\\n')\n",
    "\n",
    "# 3. Flip the means array so it's a single column\n",
    "mn = mn.reshape(3,1)\n",
    "print(f'Row means, column vector:\\n {mn}\\n')\n",
    "\n",
    "# 4. Subtract row's mean from each row value\n",
    "arr1 = arr - mn\n",
    "print(f'Row value minus mean:\\n {arr1}\\n')\n",
    "\n",
    "# 5. Square the differences\n",
    "arr1 = arr1 ** 2\n",
    "print(f'Differences squared:\\n {arr1}\\n')\n",
    "\n",
    "# 6. Sum the squared differences\n",
    "arr1 = arr1.sum(axis=1)\n",
    "print(f'Sum of squared differences:\\n {arr1}\\n')\n",
    "\n",
    "# 7. Divide each by number of columns (values in each row)\n",
    "arr1 = arr1 / arr.shape[1]\n",
    "print(f'Divide by N={arr.shape[1]} (number of values in each row):\\n {arr1}\\n')\n",
    "\n",
    "# 8. Square root of each\n",
    "arr1 = np.sqrt(arr1)\n",
    "print(f'Standard deviations:\\n {arr1}\\n')"
   ]
  },
  {
   "cell_type": "code",
   "execution_count": 156,
   "metadata": {},
   "outputs": [
    {
     "data": {
      "text/plain": [
       "array([2.05480467, 3.09120617, 2.1602469 ])"
      ]
     },
     "execution_count": 156,
     "metadata": {},
     "output_type": "execute_result"
    }
   ],
   "source": [
    "# Verify against np standard deviation function, std\n",
    "arr.std(axis=1)"
   ]
  },
  {
   "cell_type": "code",
   "execution_count": 157,
   "metadata": {},
   "outputs": [],
   "source": [
    "# Solution function\n",
    "def stddev(arr):\n",
    "    arr1 = arr - np.mean(arr,axis=1).reshape(3,1)\n",
    "    arr1 = (arr1 ** 2).sum(axis=1)/arr.shape[1]\n",
    "    return np.sqrt(arr1)\n"
   ]
  },
  {
   "cell_type": "code",
   "execution_count": 158,
   "metadata": {},
   "outputs": [
    {
     "data": {
      "text/plain": [
       "array([2.05480467, 3.09120617, 2.1602469 ])"
      ]
     },
     "execution_count": 158,
     "metadata": {},
     "output_type": "execute_result"
    }
   ],
   "source": [
    "# Test\n",
    "stddev(arr)"
   ]
  },
  {
   "cell_type": "markdown",
   "metadata": {},
   "source": [
    "---"
   ]
  },
  {
   "cell_type": "markdown",
   "metadata": {
    "id": "hUfAGQNkw2nY"
   },
   "source": [
    "#### Problem 3:\n",
    "\n",
    "In data science, a popular technique called kNN, short for **k Nearest Neighbors**, is used to find the k vectors in a dataset that are most like a new vector. For instance, a vector (array) could be user's ratings (out of 5) on a set of 10 action movies on Netflix, like so:\n",
    "<pre>\n",
    "  [2, 3, 4, 1, 1, 4, 3, 3, 3, 4]\n",
    "</pre>\n",
    "\n",
    "Suppose there is a large collection of such ratings posted by many users, collected in a 2D array, one row per user.\n",
    "(So the array size is nxm, where n is the number of users, and m is the number of movies that have been rated.) \n",
    "\n",
    "Now suppose you have a new user input of ratings on these movies, and you want to find out which k ratings in the collection are most like the new user's ratings, i.e. which are the k-nearest neighbors of the new user, ratings-wise. This can then be used to recommend to the new user which other movies they might like, based on the likes of the k-nearest neighbors. (This is called \"collaborative filtering\".)\n",
    "\n",
    "Implement a function that will return k-nearest neighbors given a 2D ratings array,a parallel user id array (i-th entry in user id array is the user id for the i-th entry of ratings in the ratings array), a user ratings array, and a k value. \n",
    "\n",
    "You must use NumPy for all computation. Use the Euclidean distance between two vectors (see https://en.wikipedia.org/wiki/Euclidean_distance#Higher_dimensions) as a measure of similarity/likeness. The smaller the distance, the more alike. \n",
    "\n",
    "Your returned result should include the actual similarity value, as well as the user id for that similarity.\n"
   ]
  },
  {
   "cell_type": "code",
   "execution_count": 67,
   "metadata": {},
   "outputs": [],
   "source": [
    "def kNN(ratings_data, user_ids, user_ratings, k):\n",
    "    # Write your code here\n",
    "    dist = np.empty(ratings_data.shape[0])\n",
    "    for r in range(ratings_data.shape[0]):\n",
    "        dist[r] = euclid_dist(ratings_data[r], user_ratings)\n",
    "    sortidx = np.argsort(dist)[:k]\n",
    "    return [(user_ids[sortidx[s]], dist[sortidx[s]]) for s in range(len(sortidx))]\n",
    "    \n",
    "def euclid_dist(r,u):\n",
    "    return np.sqrt(np.sum((r-u)**2))\n",
    "        "
   ]
  },
  {
   "cell_type": "code",
   "execution_count": 68,
   "metadata": {},
   "outputs": [
    {
     "name": "stdout",
     "output_type": "stream",
     "text": [
      "[('u57', 3.872983346207417), ('u54', 4.0), ('u76', 4.123105625617661), ('u63', 4.242640687119285), ('u61', 4.242640687119285)]\n"
     ]
    }
   ],
   "source": [
    "# 100 random sets of user ratings on 10 movies, between 1 and 5\n",
    "rdata = np.random.randint(1,6,(100,10))\n",
    "# user ids, 'u1' thru 'u100'\n",
    "uids = ['u'+str(i) for i in range(1,101)]\n",
    "# new user ratings on 10 movies, between 1 and 5\n",
    "urate = np.random.randint(1,6,10)\n",
    "\n",
    "res=kNN(rdata,uids,urate,5)\n",
    "print(res)"
   ]
  },
  {
   "cell_type": "markdown",
   "metadata": {},
   "source": [
    "---"
   ]
  },
  {
   "cell_type": "markdown",
   "metadata": {
    "id": "MBaivsluw2nW"
   },
   "source": [
    "#### Problem 4:\n",
    "\n",
    "Create a 2D array of shape 5x3 to contain random decimal numbers between 5 and 10. Get the position (index) of the two largest numbers in each row. From the generated 2D array, replace all values greater than 8 to 10 and less than 6 to 5.  <br>\n",
    "Hint: \n",
    "1. https://numpy.org/doc/stable/reference/generated/numpy.argsort.html\n",
    "2. https://numpy.org/doc/stable/reference/generated/numpy.where.html\n",
    "3. https://numpy.org/doc/stable/reference/generated/numpy.flip.html"
   ]
  },
  {
   "cell_type": "code",
   "execution_count": null,
   "metadata": {
    "id": "toIHEDR1w2nX",
    "outputId": "a3b8d8b6-a58e-4743-8683-74536598b44f"
   },
   "outputs": [
    {
     "name": "stdout",
     "output_type": "stream",
     "text": [
      "[[7.59617386 5.39732077 6.40648629]\n",
      " [6.00785031 6.38619833 6.93333009]\n",
      " [7.86349967 6.18265303 9.32175942]\n",
      " [7.25202873 8.53711484 7.4309798 ]\n",
      " [6.55980017 5.02105781 7.1242187 ]]\n",
      "[[0 2]\n",
      " [2 1]\n",
      " [2 0]\n",
      " [1 2]\n",
      " [2 0]]\n",
      "[[ 7.59617386  5.          6.40648629]\n",
      " [ 6.00785031  6.38619833  6.93333009]\n",
      " [ 7.86349967  6.18265303 10.        ]\n",
      " [ 7.25202873 10.          7.4309798 ]\n",
      " [ 6.55980017  5.          7.1242187 ]]\n"
     ]
    }
   ],
   "source": [
    "# Solution \n",
    "\n",
    "\n",
    "# Option1 :\n",
    "a = np.random.randint(low=5, high=10, size=(5,3)) + np.random.random((5,3))\n",
    "\n",
    "# Option 2: \n",
    "a = np.random.uniform(5,10, size=(5,3))\n",
    "print(a)\n",
    "\n",
    "max_pos = np.flip(np.argsort(a, axis=1), axis=1)\n",
    "max_pos = max_pos[:,:2]\n",
    "print(max_pos)\n",
    "\n",
    "new_arr = np.where(a < 6, 5, np.where(a > 8, 10, a))\n",
    "print(new_arr)"
   ]
  },
  {
   "cell_type": "markdown",
   "metadata": {},
   "source": [
    "---"
   ]
  },
  {
   "cell_type": "markdown",
   "metadata": {
    "id": "hUfAGQNkw2nY"
   },
   "source": [
    "#### Problem 5:\n",
    "\n",
    "Generate one-hot encodings for a list of values (classes). One-hot encoding and its applications are explained in the following resources: \n",
    "1. https://en.wikipedia.org/wiki/One-hot\n",
    "2. https://medium.com/@michaeldelsole/what-is-one-hot-encoding-and-how-to-do-it-f0ae272f1179\n",
    "\n",
    "Write a function that takes a 1-d List as input and return a 2-d Numpy array where the rows are the one-hot encoding of the classes in the list. Eg: Input: ['cat','camel','dog','cat'] <br>\n",
    "Output: [[1, 0, 0], [0, 1, 0], [0, 0, 1], [1, 0, 0]]"
   ]
  },
  {
   "cell_type": "code",
   "execution_count": null,
   "metadata": {
    "id": "yOH2EDOPw2nY"
   },
   "outputs": [],
   "source": [
    "# Solution:\n",
    "\n",
    "def one_hot_encoding(l):\n",
    "    arr = np.array(l)\n",
    "    num_classes = np.unique(arr)\n",
    "    encoding = np.zeros((arr.shape[0], num_classes.shape[0]))\n",
    "    for i, k in enumerate(arr):\n",
    "        encoding[i, k-1] = 1\n",
    "    return encoding"
   ]
  },
  {
   "cell_type": "code",
   "execution_count": null,
   "metadata": {
    "id": "yC7KQgI8w2nZ",
    "outputId": "1af613f4-65a0-447c-8d0e-9ee4e1b167dc"
   },
   "outputs": [
    {
     "name": "stdout",
     "output_type": "stream",
     "text": [
      "[[1. 0. 0.]\n",
      " [0. 1. 0.]\n",
      " [0. 0. 1.]\n",
      " [1. 0. 0.]\n",
      " [0. 1. 0.]]\n"
     ]
    }
   ],
   "source": [
    "# Test\n",
    "\n",
    "l = [1,2,0,1,2]\n",
    "encoding = one_hot_encoding(l)\n",
    "print(encoding)"
   ]
  },
  {
   "cell_type": "markdown",
   "metadata": {},
   "source": [
    "---"
   ]
  },
  {
   "cell_type": "markdown",
   "metadata": {
    "id": "9vj4PrvXw2nZ"
   },
   "source": [
    "#### Problem 6: \n",
    "\n",
    "Mean normalization: <br>\n",
    "\n",
    "Mean normalizing is a common technique in Data Science and Machine learning as part of pre-processing the data. Write a function that replaces all nan values to a zero from a given array. Also, the method should perform mean normalization i.e. Subtract the mean of each row of the resultant array."
   ]
  },
  {
   "cell_type": "code",
   "execution_count": null,
   "metadata": {
    "id": "ts-R0bgZw2nZ"
   },
   "outputs": [],
   "source": [
    "X = np.array([[5,6,np.nan,7],[1,np.nan,0,5],[-1,5,np.nan,2]])"
   ]
  },
  {
   "cell_type": "code",
   "execution_count": null,
   "metadata": {
    "id": "m3x6JUlWw2nZ"
   },
   "outputs": [],
   "source": [
    "# Solution\n",
    "def mean_normalize(X):\n",
    "    \n",
    "    return Y"
   ]
  },
  {
   "cell_type": "markdown",
   "metadata": {},
   "source": [
    "#### <font color=\"brown\">Carried over to PS 8</font>"
   ]
  },
  {
   "cell_type": "markdown",
   "metadata": {},
   "source": [
    "---"
   ]
  },
  {
   "cell_type": "markdown",
   "metadata": {
    "id": "AiurFReYw2na"
   },
   "source": [
    "#### Problem 7:\n",
    "Write a function that takes a 1d array and generates out of it a 2d matrix using strides, with a window length of w and strides of s. \n",
    "\n",
    "For example, for an input array [0,1,2,3,....15] with window length 4 and stride 2, the output matrix should be like [[0,1,2,3], [2,3,4,5], [4,5,6,7]..]. In addition to the 1d array, the function should accept the stride length and the window length as parameters, with a default value of 5 for both."
   ]
  },
  {
   "cell_type": "markdown",
   "metadata": {},
   "source": [
    "#### <font color=\"brown\">Carried over to PS 8</font>"
   ]
  },
  {
   "cell_type": "markdown",
   "metadata": {},
   "source": [
    "---"
   ]
  }
 ],
 "metadata": {
  "colab": {
   "name": "Week 7 Exercises Solution.ipynb",
   "provenance": []
  },
  "kernelspec": {
   "display_name": "Python 3",
   "language": "python",
   "name": "python3"
  },
  "language_info": {
   "codemirror_mode": {
    "name": "ipython",
    "version": 3
   },
   "file_extension": ".py",
   "mimetype": "text/x-python",
   "name": "python",
   "nbconvert_exporter": "python",
   "pygments_lexer": "ipython3",
   "version": "3.7.6"
  }
 },
 "nbformat": 4,
 "nbformat_minor": 4
}
