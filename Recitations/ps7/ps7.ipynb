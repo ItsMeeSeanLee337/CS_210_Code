{
 "cells": [
  {
   "cell_type": "markdown",
   "metadata": {},
   "source": [
    "### <font color=\"brown\">Problem Set 7: NumPy</font>"
   ]
  },
  {
   "cell_type": "code",
   "execution_count": 4,
   "metadata": {
    "id": "-anorqYAw2nQ"
   },
   "outputs": [],
   "source": [
    "import numpy as np"
   ]
  },
  {
   "cell_type": "markdown",
   "metadata": {},
   "source": [
    "---"
   ]
  },
  {
   "cell_type": "markdown",
   "metadata": {},
   "source": [
    "#### Problem 1\n",
    "\n",
    "Write a function that takes a 2D ndarray and cycles the rows up by 1 so that the first row becomes the last, the last becomes second-to-last, etc. "
   ]
  },
  {
   "cell_type": "markdown",
   "metadata": {},
   "source": [
    "---"
   ]
  },
  {
   "cell_type": "markdown",
   "metadata": {},
   "source": [
    "#### Problem 2\n",
    "\n",
    "Write a function that takes an ndarray and computes the standard deviation of the values in each row, without using the standard deviation function. It should return an array with these standard deviations. \n",
    "See https://www.mathsisfun.com/data/standard-deviation-formulas.html"
   ]
  },
  {
   "cell_type": "markdown",
   "metadata": {},
   "source": [
    "---"
   ]
  },
  {
   "cell_type": "markdown",
   "metadata": {
    "id": "hUfAGQNkw2nY"
   },
   "source": [
    "#### Problem 3:\n",
    "\n",
    "In data science, a popular technique called kNN, short for **k Nearest Neighbors**, is used to find the k vectors in a dataset that are most like a new vector. For instance, a vector (array) could be user's ratings (out of 5) on a set of 10 action movies on Netflix, like so:\n",
    "<pre>\n",
    "  [2, 3, 4, 1, 1, 4, 3, 3, 3, 4]\n",
    "</pre>\n",
    "\n",
    "Suppose there is a large collection of such ratings posted by many users, collected in a 2D array, one row per user.\n",
    "(So the array size is nxm, where n is the number of users, and m is the number of movies that have been rated.) \n",
    "\n",
    "Now suppose you have a new user input of ratings on these movies, and you want to find out which k ratings in the collection are most like the new user's ratings, i.e. which are the k-nearest neighbors of the new user, ratings-wise. This can then be used to recommend to the new user which other movies they might like, based on the likes of the k-nearest neighbors. (This is called \"collaborative filtering\".)\n",
    "\n",
    "Implement a function that will return k-nearest neighbors given a 2D ratings array,a parallel user id array (i-th entry in user id array is the user id for the i-th entry of ratings in the ratings array), a user ratings array, and a k value. \n",
    "\n",
    "You must use NumPy for all computation. Use the Euclidean distance between two vectors (see https://en.wikipedia.org/wiki/Euclidean_distance#Higher_dimensions) as a measure of similarity/likeness. The smaller the distance, the more alike. \n",
    "\n",
    "Your returned result should include the actual similarity value, as well as the user id for that similarity.\n"
   ]
  },
  {
   "cell_type": "markdown",
   "metadata": {},
   "source": [
    "---"
   ]
  },
  {
   "cell_type": "markdown",
   "metadata": {
    "id": "MBaivsluw2nW"
   },
   "source": [
    "#### Problem 4:\n",
    "\n",
    "Create a 2D array of shape 5x3 to contain random decimal numbers between 5 and 10. Get the position (index) of the two largest numbers in each row. From the generated 2D array, replace all values greater than 8 to 10 and less than 6 to 5.  <br>\n",
    "Hint: \n",
    "1. https://numpy.org/doc/stable/reference/generated/numpy.argsort.html\n",
    "2. https://numpy.org/doc/stable/reference/generated/numpy.where.html\n",
    "3. https://numpy.org/doc/stable/reference/generated/numpy.flip.html"
   ]
  },
  {
   "cell_type": "markdown",
   "metadata": {},
   "source": [
    "---"
   ]
  },
  {
   "cell_type": "markdown",
   "metadata": {
    "id": "hUfAGQNkw2nY"
   },
   "source": [
    "#### Problem 5:\n",
    "\n",
    "Generate one-hot encodings for a list of values (classes). One-hot encoding and its applications are explained in the following resources: \n",
    "1. https://en.wikipedia.org/wiki/One-hot\n",
    "2. https://medium.com/@michaeldelsole/what-is-one-hot-encoding-and-how-to-do-it-f0ae272f1179\n",
    "\n",
    "Write a function that takes a 1-d List as input and return a 2-d Numpy array where the rows are the one-hot encoding of the classes in the list. Eg: Input: ['cat','camel','dog','cat'] <br>\n",
    "Output: [[1, 0, 0], [0, 1, 0], [0, 0, 1], [1, 0, 0]]"
   ]
  },
  {
   "cell_type": "markdown",
   "metadata": {},
   "source": [
    "---"
   ]
  },
  {
   "cell_type": "markdown",
   "metadata": {
    "id": "9vj4PrvXw2nZ"
   },
   "source": [
    "#### Problem 6: \n",
    "\n",
    "Mean normalization: <br>\n",
    "\n",
    "Mean normalizing is a common technique in Data Science and Machine learning as part of pre-processing the data. Write a function that replaces all nan values to a zero from a given array. Also, the method should perform mean normalization i.e. Subtract the mean of each row of the resultant array."
   ]
  },
  {
   "cell_type": "code",
   "execution_count": null,
   "metadata": {
    "id": "ts-R0bgZw2nZ"
   },
   "outputs": [],
   "source": [
    "X = np.array([[5,6,np.nan,7],[1,np.nan,0,5],[-1,5,np.nan,2]])"
   ]
  },
  {
   "cell_type": "code",
   "execution_count": null,
   "metadata": {
    "id": "m3x6JUlWw2nZ"
   },
   "outputs": [],
   "source": [
    "def mean_normalize(X):\n",
    "    \n",
    "    return Y"
   ]
  },
  {
   "cell_type": "markdown",
   "metadata": {},
   "source": [
    "---"
   ]
  },
  {
   "cell_type": "markdown",
   "metadata": {
    "id": "AiurFReYw2na"
   },
   "source": [
    "#### Problem 7:\n",
    "Write a function that takes a 1d array and generates out of it a 2d matrix using strides, with a window length of w and strides of s. \n",
    "\n",
    "For example, for an input array [0,1,2,3,....15] with window length 4 and stride 2, the output matrix should be like [[0,1,2,3], [2,3,4,5], [4,5,6,7]..]. In addition to the 1d array, the function should accept the stride length and the window length as parameters, with a default value of 5 for both."
   ]
  },
  {
   "cell_type": "markdown",
   "metadata": {},
   "source": [
    "---"
   ]
  }
 ],
 "metadata": {
  "colab": {
   "name": "Week 7 Exercises Solution.ipynb",
   "provenance": []
  },
  "kernelspec": {
   "display_name": "Python 3",
   "language": "python",
   "name": "python3"
  },
  "language_info": {
   "codemirror_mode": {
    "name": "ipython",
    "version": 3
   },
   "file_extension": ".py",
   "mimetype": "text/x-python",
   "name": "python",
   "nbconvert_exporter": "python",
   "pygments_lexer": "ipython3",
   "version": "3.7.6"
  }
 },
 "nbformat": 4,
 "nbformat_minor": 4
}
