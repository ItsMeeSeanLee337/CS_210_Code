{
 "cells": [
  {
   "cell_type": "markdown",
   "metadata": {
    "id": "o2PDkcDWDj6p"
   },
   "source": [
    "### <font color=\"brown\">Problem Set 10: Matplotlib</font>"
   ]
  },
  {
   "cell_type": "code",
   "execution_count": 3,
   "metadata": {
    "id": "q6TnhawuDD1N"
   },
   "outputs": [],
   "source": [
    "from matplotlib import pyplot as plt\n",
    "import numpy as np\n",
    "import math"
   ]
  },
  {
   "cell_type": "markdown",
   "metadata": {},
   "source": [
    "---"
   ]
  },
  {
   "cell_type": "markdown",
   "metadata": {
    "id": "v2gOMHuhDEv6"
   },
   "source": [
    "### Problem 1:\n",
    "\n",
    "Plot the functions f(x) = e^(−x/10)*sin(πx) and g(x) = x*e^(−x/3) over the interval [0, 10]. Include labels for the x- and y-axes, and a legend explaining which line is which plot. Save the plot in png format."
   ]
  },
  {
   "cell_type": "markdown",
   "metadata": {},
   "source": [
    "---"
   ]
  },
  {
   "cell_type": "markdown",
   "metadata": {
    "id": "abaCEA5QsJz5"
   },
   "source": [
    "### Problem 2:\n",
    "\n",
    "The following list shows the sales of items per month in a particular year. The months are labelled from 1 to 12. The total units per month are sum of all the units of items per months. "
   ]
  },
  {
   "cell_type": "code",
   "execution_count": 3,
   "metadata": {
    "id": "DFcOUvVXundn"
   },
   "outputs": [],
   "source": [
    "facecream_sales = [2500, 2630, 2140, 3400, 3600, 2760, 2980, 3700, 3540, 1990, 2340, 2900]\n",
    "shampoo_sales = [1200, 2100, 3550, 1870, 1560, 1890, 1780, 2860, 2100, 2300, 2400, 1800]\n",
    "toothpaste_sales = [5200, 5100, 4550, 5870, 4560, 4890, 4780, 5860, 6100, 8300, 7300, 7400]\n",
    "facewash_sales = [1500, 1200, 1340, 1130, 1740, 1555, 1120, 1400, 1780, 1890, 2100, 1760]"
   ]
  },
  {
   "cell_type": "markdown",
   "metadata": {
    "id": "abaCEA5QsJz5"
   },
   "source": [
    "The profit distribution (multipler of sales numbers) is as follows: \n",
    "\n",
    "* facecream = 5 \n",
    "* shampoo = 3\n",
    "* toothpaste = 10\n",
    "\n",
    "The total profit (per month) is calculated as the individual profit amount times the number of units per month.\n",
    "\n",
    "\n",
    "1. Display the toothpaste sales data of each month and show it using a scatter plot. Also, add a grid in the plot. gridline style should be “–“.\n",
    "\n",
    "2. Plot comparative monthly facecream and shampoo product sales data in a bar chart. \n",
    "\n",
    "3. Plot toothpaste and facewash sales data for each month in separate line plots in a vertically stacked grid.\n",
    "\n",
    "4. Plot the total annual sales for all the products in a pie chart. In each slice of the pie, display the percentage sale of that product relative to the total sales of all products.\n",
    "\n",
    "5. Plot a histogram for the total monthly profites of all products. Use 5 bins, and set the histogram ranges accordingly.\n"
   ]
  },
  {
   "cell_type": "markdown",
   "metadata": {},
   "source": [
    "---"
   ]
  },
  {
   "cell_type": "markdown",
   "metadata": {
    "id": "T6fjs6y65Xai"
   },
   "source": [
    "### Problem 3:\n",
    "\n",
    "Here is the relative popularity figures for some programming languages:\n",
    "\n",
    "<pre>\n",
    "Programming languages: Java, Python, PHP, JavaScript, C#, C++ \n",
    "Popularity: 22.2, 17.6, 8.8, 8, 7.7, 6.7\n",
    "</pre>\n",
    "\n",
    "Plot a bar chart of these popularities. Attach a text label above each bar displaying its popularity."
   ]
  }
 ],
 "metadata": {
  "colab": {
   "collapsed_sections": [],
   "name": "Week_10_Exercises.ipynb",
   "provenance": []
  },
  "kernelspec": {
   "display_name": "Python 3",
   "language": "python",
   "name": "python3"
  },
  "language_info": {
   "codemirror_mode": {
    "name": "ipython",
    "version": 3
   },
   "file_extension": ".py",
   "mimetype": "text/x-python",
   "name": "python",
   "nbconvert_exporter": "python",
   "pygments_lexer": "ipython3",
   "version": "3.7.6"
  }
 },
 "nbformat": 4,
 "nbformat_minor": 4
}
