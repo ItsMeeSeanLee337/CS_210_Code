{
 "cells": [
  {
   "cell_type": "markdown",
   "metadata": {
    "id": "kB_yJOWpXWzS"
   },
   "source": [
    "### <font color=\"brown\">Problem Set 5: File Handling and Regular Expressions</font>\n",
    "\n",
    "The problems in this set pertain to file handling and regular expressions. You should use the Python regex library (\"re\") wherever applicable. For each of the problems, write your code in a Python file, so it can be executed by running python on it, like this:\n",
    "<pre>\n",
    "    > python ps5-1_sol.py\n",
    "</pre>"
   ]
  },
  {
   "cell_type": "markdown",
   "metadata": {},
   "source": [
    "---"
   ]
  },
  {
   "cell_type": "markdown",
   "metadata": {
    "id": "M_cEB85xFetT"
   },
   "source": [
    "### Problem 1\n",
    "\n",
    "You are given a file named *ps5-1_in.txt* with multiple records, each on a separate line. Each record has person name, profession, and school name, separated by a comma. You are required to extract only those records for which person name starts with 'a' and profession is student, and write the extracted records to a new output file called *ps5-1_out.txt*. You must use regular expressions to do the extraction for each record.\n",
    "\n",
    "*Note: 'student scholar' is a different profession than 'student'*\n"
   ]
  },
  {
   "cell_type": "markdown",
   "metadata": {},
   "source": [
    "---"
   ]
  },
  {
   "cell_type": "markdown",
   "metadata": {
    "id": "AHuL3JPIVGxU"
   },
   "source": [
    "### Problem 2\n",
    "\n",
    "Given a text file *sampleSentences.txt* containing sentences on separate lines, create a dictionary to map a letter with the number of words starting with it. Write the contents of the dictionary to the file *ps5-2_out.txt*. For example, write T : 18 if words starting with T occur 18 times. To avoid discrepancies of upper and lower case characters, start by converting all uppercase characters to lowercase using a regular expression.\n",
    "\n",
    "You can make use of isalpha() to make sure that you are working with words that start with letters. \n",
    "\n",
    "Note: Make sure you handle punctuations and escape characters properly."
   ]
  },
  {
   "cell_type": "markdown",
   "metadata": {},
   "source": [
    "---"
   ]
  },
  {
   "cell_type": "markdown",
   "metadata": {
    "id": "0UUhP7lhPKJU"
   },
   "source": [
    "### Problem 3\n",
    "\n",
    "In this problem, you will be extracting a data subset from a larger text data where you have sentences on separate lines. You are essentially preparing another meaningful, clean dataset that follows some constraints.<br>\n",
    "You need to read sentences from the text file *sampleSentences.txt* (same input as for the previous problem) and write to another text file named *ps5-3_out.txt* only those sentences that obey the constraints given below:<br>\n",
    "<ol>\n",
    "<li>Contain at least 6 words.</li>\n",
    "<li>Start and end with the same word, case insensitive. <br>E.g., \"King Juan Carlos loves the novels of Stephen King.\" passes this rule but \"King Juan Carlos loves his Kingdom.\" does not.</li>\n",
    "<li>Contain no duplicates other than their first and last words.</li>\n",
    "</ol>\n",
    "\n",
    "Sentences can end with any punctuation marks (\".\", \"?\", \"!\", etc.). You must use regular expressions to detect words and handle punctuation."
   ]
  },
  {
   "cell_type": "markdown",
   "metadata": {},
   "source": [
    "---"
   ]
  },
  {
   "cell_type": "markdown",
   "metadata": {
    "id": "WerFdRT3Fo6s"
   },
   "source": [
    "### Problem 4\n",
    "\n",
    "Given an HTML code document as a text file *html.txt*, extract all the classnames and the corresponding tag types and write the result to a text file (named *ps5-4_out.txt*) separated by \",\". Note: You need to omit other attributes like \"id\".<br>\n",
    "Your output should look like this:<p>\n",
    "head, div<br>\n",
    "para1, p<br>\n",
    "para2, p<br>\n",
    "\n",
    "<b>Hint: </b>Use <code>re.findall</code> to get tags with attributes, and <code>re.search</code> to match for class. \n"
   ]
  }
 ],
 "metadata": {
  "colab": {
   "collapsed_sections": [],
   "name": "Week 5 Exercises.ipynb",
   "provenance": []
  },
  "kernelspec": {
   "display_name": "Python 3",
   "language": "python",
   "name": "python3"
  },
  "language_info": {
   "codemirror_mode": {
    "name": "ipython",
    "version": 3
   },
   "file_extension": ".py",
   "mimetype": "text/x-python",
   "name": "python",
   "nbconvert_exporter": "python",
   "pygments_lexer": "ipython3",
   "version": "3.7.6"
  }
 },
 "nbformat": 4,
 "nbformat_minor": 4
}
