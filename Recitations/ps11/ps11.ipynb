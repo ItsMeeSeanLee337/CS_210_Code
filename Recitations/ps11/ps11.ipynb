{
 "cells": [
  {
   "cell_type": "markdown",
   "metadata": {
    "id": "o2PDkcDWDj6p"
   },
   "source": [
    "### <font color=\"brown\">Problem Set 11: Data Exploration</font>"
   ]
  },
  {
   "cell_type": "code",
   "execution_count": 2,
   "metadata": {},
   "outputs": [],
   "source": [
    "import pandas as pd\n",
    "import matplotlib.pyplot as plt"
   ]
  },
  {
   "cell_type": "markdown",
   "metadata": {},
   "source": [
    "---"
   ]
  },
  {
   "cell_type": "markdown",
   "metadata": {},
   "source": [
    "### <font color=\"brown\">Part 1</font>\n",
    "\n",
    "##### In this part, you will explore a breast cancer dataset, breastCancer.csv"
   ]
  },
  {
   "cell_type": "code",
   "execution_count": 28,
   "metadata": {},
   "outputs": [],
   "source": [
    "data = pd.read_csv(\"breastCancer.csv\")"
   ]
  },
  {
   "cell_type": "markdown",
   "metadata": {},
   "source": [
    "#### Problem 1\n",
    "\n",
    "Perform plotting for this task using the inbuilt functions in Pandas.\n",
    "\n",
    "1. Plot a histogram of 'Class' where 'breast-quad' and 'node-caps' are not NaN. \n",
    "2. In the column \"inv-nodes\", replace the class interval values by class mean, e.g., 3-5 becomes 4. Plot another histogram of 'Class' based on 'age' divided into 5 bins."
   ]
  },
  {
   "cell_type": "markdown",
   "metadata": {},
   "source": [
    "---"
   ]
  },
  {
   "cell_type": "markdown",
   "metadata": {},
   "source": [
    "#### Problem 2\n",
    "\n",
    "Drop all null values before starting with these tasks.\n",
    "\n",
    "1. Just like the \"inv-nodes\" column, replace the class interval values by class mean in the \"tumor-size\" column and plot a bar graph of the average tumor size for each \"age\" group.\n",
    "2. For each menopause stage, plot a pie chart for degree of malignancy (deg-malig) values. Use subplots, where each subplot handles a menopause stage.\n",
    "3. Label the recurrence and no-recurrence events as 0 and 1 respectively and plot a histogram to show the frequency of recurrence and no-recurrence events for different \"breast-quad\" values. Use subplots for the different breast-quad values."
   ]
  },
  {
   "cell_type": "markdown",
   "metadata": {},
   "source": [
    "---"
   ]
  },
  {
   "cell_type": "markdown",
   "metadata": {},
   "source": [
    "### <font color=\"brown\">Part 2</font>\n",
    "\n",
    "##### In this part, you will explore a Pima Indians diabetes dataset, pimaIndiansDiabetes.csv"
   ]
  },
  {
   "cell_type": "code",
   "execution_count": 3,
   "metadata": {},
   "outputs": [],
   "source": [
    "diabetes = pd.read_csv(\"PimaIndiansDiabetes.csv\")"
   ]
  },
  {
   "cell_type": "markdown",
   "metadata": {},
   "source": [
    "#### Problem\n",
    "1. Place the BMI column values into one of 4 groups labeled 0, 1, 2 and 3, by splitting at 18.5, 25 and 30 respectively. (If value <= 18.5 then group 0, if 18.5 < value <= 25 then group 1, etc.)\n",
    "Make sure that these values are of 'int' type.\n",
    "2. Put the Age column values into one of 3 groups labeled 0, 1, and 2, by splitting at the 40th and 90th percentile values respectively.<br>\n",
    "<b>You can use the [np.percentile](https://numpy.org/doc/stable/reference/generated/numpy.percentile.html) function.</b>\n",
    "3. Identify and remove outliers in the columns Glucose, SkinThickness, and Insulin.<br>\n",
    "For this, in every column, discard the rows where the values are more than Q<sub>3</sub> + k(IQR) or less than Q<sub>1</sub> - k(IQR).<br>\n",
    "Here, Q<sub>1</sub> is the 25th percentile value, Q<sub>3</sub> is the 75th percentile value and IQR (or Inter-Quartile Range) is Q<sub>3</sub> - Q<sub>1</sub>.<br>\n",
    "'k' is an adjustable value. You can use k = 1.5 for this task. Click [here](https://www.purplemath.com/modules/boxwhisk3.htm) to read more on this.\n",
    "4. Perform Min-Max scaling for all the Insulin column. Read more on Min-Max scaling [here](https://sebastianraschka.com/Articles/2014_about_feature_scaling.html#about-min-max-scaling).\n",
    "5. Fill in the missing BloodPressure values with the average BloodPressure of the age group to which the person belongs to."
   ]
  }
 ],
 "metadata": {
  "kernelspec": {
   "display_name": "Python 3",
   "language": "python",
   "name": "python3"
  },
  "language_info": {
   "codemirror_mode": {
    "name": "ipython",
    "version": 3
   },
   "file_extension": ".py",
   "mimetype": "text/x-python",
   "name": "python",
   "nbconvert_exporter": "python",
   "pygments_lexer": "ipython3",
   "version": "3.7.6"
  }
 },
 "nbformat": 4,
 "nbformat_minor": 4
}
