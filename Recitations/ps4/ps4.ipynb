{
 "cells": [
  {
   "cell_type": "markdown",
   "metadata": {
    "id": "JlD0JqiREsSp"
   },
   "source": [
    "### <font color=\"brown\">Problem Set 4: Regular Expressions</font>"
   ]
  },
  {
   "cell_type": "markdown",
   "metadata": {},
   "source": [
    "---"
   ]
  },
  {
   "cell_type": "markdown",
   "metadata": {
    "id": "0NVqJNywEsSr"
   },
   "source": [
    "#### Problem 1\n",
    "\n",
    "Write a function that takes a sentence as an input string parameter. The function should print True if the parameter string starts with \"The\", contains \"mountains\" and ends with \"river.\", otherwise it should print False. <br/>Also, if the pattern matches, the function should split the sentence into two parts, one each on either side of the word \"mountains\", and print the parts."
   ]
  },
  {
   "cell_type": "code",
   "execution_count": 2,
   "metadata": {
    "colab": {
     "base_uri": "https://localhost:8080/"
    },
    "id": "v6pXFmm6EsSr",
    "outputId": "9470d08d-8094-4ccc-c8e7-5541898c65ac"
   },
   "outputs": [],
   "source": [
    "import re\n",
    "def checkSentence(sentence):\n",
    "    # write your code here\n",
    "    "
   ]
  },
  {
   "cell_type": "code",
   "execution_count": null,
   "metadata": {},
   "outputs": [],
   "source": [
    "checkSentence(\"The wild foxes live on the mountains and drink water from the river.\")"
   ]
  },
  {
   "cell_type": "code",
   "execution_count": null,
   "metadata": {},
   "outputs": [],
   "source": [
    "checkSentence(\"The wild foxes live on the plains and drink water from the river.\")"
   ]
  },
  {
   "cell_type": "markdown",
   "metadata": {},
   "source": [
    "---"
   ]
  },
  {
   "cell_type": "markdown",
   "metadata": {
    "id": "TsYs_po9EsSs"
   },
   "source": [
    "#### Problem 2\n",
    "\n",
    "In this problem, you will implement a user signup functionality with the following requirements: <br/>\n",
    "<ol>\n",
    "    <li>A username starting with either a lowercase letter or an underscore.</li>\n",
    "    <li>A password at least 6 characters long, containing at least one uppercase character.</li> \n",
    "    <li>An Email ID containing `@`, but not beginning or ending with it. Feel free to try more realistic requirements as well.</li>\n",
    "    <li>A 10 digit mobile phone number, which is expected to be in any basic 3-3-4 format involving the use of \"(\", \")\" or \"-\". <br/>E.g., xxx-xxx-xxxx, xxxxxxxxxx, (xxx)xxx-xxxx, (xxx)xxxxxxx and so on.</li>\n",
    "</ol>\n",
    "You must ask the user to input the details one by one until each one of them abides by the constraints (while loop!)."
   ]
  },
  {
   "cell_type": "code",
   "execution_count": null,
   "metadata": {},
   "outputs": [],
   "source": [
    "# write your code here"
   ]
  },
  {
   "cell_type": "markdown",
   "metadata": {},
   "source": [
    "---"
   ]
  },
  {
   "cell_type": "markdown",
   "metadata": {
    "id": "cgizBg43IzpC"
   },
   "source": [
    "#### Problem 3\n",
    "Given a text input that mimics a student table, e.g.<br/>\n",
    "Sample input: \"19100 COM Networks\n",
    "19101 MAT Calculus\n",
    "19102 MAT Algebra\n",
    "19103 BIO Microbiology\"\n",
    "<ol>\n",
    "<li>Extract all the Student IDS (5 digit), Department codes (3 letter codes) and Majors (more than 3 letters)<br/>\n",
    "Expected output: ['19100', '19101', '19102', '19103']\n",
    "['COM', 'MAT', 'MAT', 'BIO']\n",
    "['Networks', 'Calculus', 'Algebra', 'Microbiology']\n",
    "</li>\n",
    "<li>Extract tuples such that each tuple contains comma separated student information.<br/>\n",
    "Expected output: [('19100', 'COM', 'Networks'), ('19101', 'MAT', 'Calculus'), ('19102', 'MAT', 'Algebra'), ('19103', 'BIO', 'Microbiology')]</li>\n",
    "\n",
    "</ol>.\n",
    "\n"
   ]
  },
  {
   "cell_type": "code",
   "execution_count": null,
   "metadata": {},
   "outputs": [],
   "source": [
    "# write your code here"
   ]
  },
  {
   "cell_type": "markdown",
   "metadata": {},
   "source": [
    "---"
   ]
  },
  {
   "cell_type": "markdown",
   "metadata": {
    "id": "P9J4UPhKEsSu"
   },
   "source": [
    "#### Problem 4\n",
    "\n",
    "Given an HTML code snippet e.g. ```\"<html><body><h1><div><h2>Responsive Sidebar Example</h2><title><p>First paragraph.</p></ol><p>Second paragraph.</p></li><h3>Resize the browser window to see the effect.</h3></div></body></html>\"```. \n",
    "\n",
    "<ol>\n",
    "\n",
    "<li>Extract all the distinct opening and closing tags that are present.<br/> \n",
    "</li>\n",
    "<li>Extract all the distinct opening tags that do not have corresponding closing tags and all the distinct closing tags that do not have a corresponding opening tag.</ol>\n",
    "\n",
    "For the sample snippet above,<br/>\n",
    "The opening tags are: ```'<html>', '<body>', '<div>', '<h1>', '<h2>', , '<title>', '<p>', '<h3>' ```<br/>\n",
    "The closing tags are: ```'</h2>', '</p>', '</ol>', '</li>', '</h3>', '</div>', '</body>', '</html>' ```<br/>\n",
    "Tags opened but not closed: ```'<title>', '<h1>'``` <br/>\n",
    "Tags closed but not opened: ```'</li>', '</ol>'```\n"
   ]
  },
  {
   "cell_type": "code",
   "execution_count": null,
   "metadata": {},
   "outputs": [],
   "source": [
    "# write your code here"
   ]
  },
  {
   "cell_type": "markdown",
   "metadata": {},
   "source": [
    "---"
   ]
  },
  {
   "cell_type": "markdown",
   "metadata": {
    "id": "SAmDYtVKsgF8"
   },
   "source": [
    "#### Problem 5\n",
    "\n",
    "In this problem, you will write a function to validate IP addresses. You will check and print if the IP address passed to your function is a valid IPv4 or IPv6 address. If it is not a valid IP address, print \"Invalid IP address\". <br/>\n",
    "Read more about IPv4 and IPv6 addresses <a href = \"https://www.ibm.com/support/knowledgecenter/en/STCMML8/com.ibm.storage.ts3500.doc/opg_3584_IPv4_IPv6_addresses.html\">here</a>.\n"
   ]
  },
  {
   "cell_type": "code",
   "execution_count": null,
   "metadata": {},
   "outputs": [],
   "source": [
    "def checkIP(ipAddress):    \n",
    "    ### write your code here"
   ]
  },
  {
   "cell_type": "code",
   "execution_count": null,
   "metadata": {},
   "outputs": [],
   "source": [
    "checkIP(\"2F33:12a0:3Ea0:0302\")"
   ]
  },
  {
   "cell_type": "code",
   "execution_count": null,
   "metadata": {},
   "outputs": [],
   "source": [
    "checkIP(\"192.0.0.1\")"
   ]
  },
  {
   "cell_type": "code",
   "execution_count": null,
   "metadata": {},
   "outputs": [],
   "source": [
    "checkIP(\"2001:0db8:85a3:0000:0000:8a2e:0370:7334\")"
   ]
  },
  {
   "cell_type": "markdown",
   "metadata": {},
   "source": [
    "---"
   ]
  },
  {
   "cell_type": "markdown",
   "metadata": {
    "id": "MBaXUNi1EsSt"
   },
   "source": [
    "#### Problem 6\n",
    "\n",
    "In this problem, you will perform some HTML code parsing. Given an anchor tag (`<a>..</a>`), with a link in its href attribute and some link text, write a function to extract and print the domain name of the link and the link text. Consider the following example anchor tag to write your code.<br/>\n",
    "\n",
    "E.g., for the input: `<a href=\"https://www.foxnews.com/politics/\">Fox News</a>`, the domain name will be \"foxnews.com\" and the link text will be \"Fox News\".\n",
    "\n",
    "Another example: `<a href=\"https://support.apple.com/mac\">Mac Support Page</a>`. Here, the domain name will be \"apple.com\" and the link name will be \"Mac Support Page\".\n",
    "\n",
    "Assume the same format for the anchor tag, but the url pattern can vary as seen in the two examples above. Note that the domain extensions can vary and won't always be `.com`\n",
    "\n",
    "<b>Note</b>: When you pass the input to the function, it will contain a string in the href parameter, which could give you an error. Replace the `\"` with `\\\"` to avoid this. "
   ]
  },
  {
   "cell_type": "code",
   "execution_count": null,
   "metadata": {},
   "outputs": [],
   "source": [
    "import re\n",
    "def htmlParser(tag):\n",
    "    ### Write your code here"
   ]
  },
  {
   "cell_type": "code",
   "execution_count": null,
   "metadata": {},
   "outputs": [],
   "source": [
    "htmlParser(\"<a href=\\\"https://www.foxnews.com/politics/\\\">Fox News</a>\")\n",
    "htmlParser(\"<a href=\\\"https://support.apple.com/mac\\\">Mac Support Page</a>\")\n",
    "htmlParser(\"<a href=\\\"https://support.apple.com\\\">Support Page</a>\")\n",
    "htmlParser(\"<a href=\\\"https://newbrunswick.rutgers.edu/research\\\">Rutgers NB Research</a>\")"
   ]
  }
 ],
 "metadata": {
  "colab": {
   "collapsed_sections": [],
   "name": "Week 4 Exercises.ipynb",
   "provenance": []
  },
  "kernelspec": {
   "display_name": "Python 3",
   "language": "python",
   "name": "python3"
  },
  "language_info": {
   "codemirror_mode": {
    "name": "ipython",
    "version": 3
   },
   "file_extension": ".py",
   "mimetype": "text/x-python",
   "name": "python",
   "nbconvert_exporter": "python",
   "pygments_lexer": "ipython3",
   "version": "3.8.8"
  }
 },
 "nbformat": 4,
 "nbformat_minor": 4
}
