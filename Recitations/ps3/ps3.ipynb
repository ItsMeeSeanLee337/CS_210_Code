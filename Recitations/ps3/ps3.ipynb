{
 "cells": [
  {
   "cell_type": "markdown",
   "metadata": {},
   "source": [
    "### <font color='brown'>Problem Set 3: List and Dictionary</brown>"
   ]
  },
  {
   "cell_type": "markdown",
   "metadata": {},
   "source": [
    "---"
   ]
  },
  {
   "cell_type": "markdown",
   "metadata": {},
   "source": [
    "#### Problem 1\n",
    "\n",
    "1. Given two parallel lists of keys and values, convert them into a dictionary. \n",
    "2. Can you do it without iterating the lists? \n",
    "\n",
    "Hint - Zip function: https://realpython.com/python-zip-function/"
   ]
  },
  {
   "cell_type": "code",
   "execution_count": 1,
   "metadata": {},
   "outputs": [],
   "source": [
    "keys = ['Id', 'Name', 'Salary', 'Age', 'Teams']\n",
    "values = [87, 'Bob', 100000, 28, ['CRM', 'QA']]"
   ]
  },
  {
   "cell_type": "markdown",
   "metadata": {},
   "source": [
    "---"
   ]
  },
  {
   "cell_type": "markdown",
   "metadata": {},
   "source": [
    "#### Problem 2\n",
    "\n",
    "Given the list 'nums_1' and 'nums_2', do the following:\n",
    "\n",
    "1. Sort the list 'nums_1' in descending order. Note: sort function changes the list in place. \n",
    "2. Get the list 'nums_2' in reversed order. Note: reverse functions can change the list in place. <br>\n",
    "\n",
    "You can use the updated lists to do the following: \n",
    "\n",
    "3. Print the two lists simulateneously i.e. print first element of both lists, then second and so on. Hint: See Zip function for parallel iteration\n",
    "4. Check if there is alteast one common element in 'nums_1' and 'num_2'. \n",
    "5. Count the occurrence of 5 in 'nums_1'.\n",
    "6. Make a new list from 'nums_1' such that there are no duplicates. Hint: What is a collection that has no duplicates?\n",
    "7. Make a new list from 'nums_2' which has alternate elements.\n",
    "8. Get a new list with squares of elements in 'nums_1' using list comprehension. Here's some helpful documentation on list comprehension: https://www.w3schools.com/python/python_lists_comprehension.asp"
   ]
  },
  {
   "cell_type": "code",
   "execution_count": 3,
   "metadata": {},
   "outputs": [],
   "source": [
    "nums_1 = [5, 0, 1, 0, 5, 3, 7, 5]\n",
    "nums_2 = [42, 23, 120, 300, 34, 7, 612, 78]"
   ]
  },
  {
   "cell_type": "markdown",
   "metadata": {},
   "source": [
    "---"
   ]
  },
  {
   "cell_type": "markdown",
   "metadata": {},
   "source": [
    "#### Problem 3\n",
    "Given a list of words, write code to count the number of words where the word length is 3 or more and the first and last character are same. Return the count. Also return a string formed by the first letter of each word. "
   ]
  },
  {
   "cell_type": "code",
   "execution_count": 12,
   "metadata": {},
   "outputs": [],
   "source": [
    "words = [\"aba\", \"hello\", \"xyx\", \"122321\", \"name\", \"noon\"]"
   ]
  },
  {
   "cell_type": "markdown",
   "metadata": {},
   "source": [
    "---"
   ]
  },
  {
   "cell_type": "markdown",
   "metadata": {},
   "source": [
    "#### Problem 4\n",
    "\n",
    "Given a dictionary, do the following: \n",
    "\n",
    "1. Check if the dictionary is empty.\n",
    "2. Print all unique values in the dictionary.\n",
    "3. Get the keys in the dictionary.\n",
    "4. Make a new dictionary where the values are more than 50."
   ]
  },
  {
   "cell_type": "code",
   "execution_count": 16,
   "metadata": {},
   "outputs": [],
   "source": [
    "d = {'a':'12', 'b':'34', 'c':'76', 'd':'87', 'e':'12', 'f':'90', 'g':'34', 'h':'0', 'i':'0'}"
   ]
  },
  {
   "cell_type": "markdown",
   "metadata": {},
   "source": [
    "---"
   ]
  },
  {
   "cell_type": "markdown",
   "metadata": {},
   "source": [
    "#### Problem 5\n",
    "\n",
    "Write a function that takes two strings as input and returns a boolean value if the strings are anagrams. A word is an anagram of another word, if the first word can be rearranged to form the second word. Note: The letters of the words may be used exactly once. <br>\n",
    "Example of anagrams: \"race and care\", \"keen and knee\" <br>\n",
    "Hint: What are the necessary conditions for two words to be an anagram? "
   ]
  },
  {
   "cell_type": "markdown",
   "metadata": {},
   "source": [
    "---"
   ]
  },
  {
   "cell_type": "markdown",
   "metadata": {},
   "source": [
    "#### Problem 6\n",
    "\n",
    "Given a (NxN) matrix in the form of 2-d list, calculate its column wise, row wise and diagonal sum. <br>\n",
    "\n",
    "Example: M = [[1,2,3],[4,5,6],[1,2,3]]\n",
    "1. Column wise sum: [6,9,12]\n",
    "2. Row wise sum: [6, 15, 6]\n",
    "3. Diagonal sum: 9"
   ]
  },
  {
   "cell_type": "markdown",
   "metadata": {},
   "source": [
    "---"
   ]
  },
  {
   "cell_type": "markdown",
   "metadata": {},
   "source": [
    "#### Problem 7\n",
    "\n",
    "The following dictionary has student id for key, mapped to a list scores on assignments. Calculate the final letter grade of each student using the following percentage weights for the assignments: [10%, 10%, 10%, 20%, 50%]. The maximum score for each assignment is as follows: [100,100,200,200,300]. The letter grade should be computed using the following grade scheme: \n",
    "\n",
    "1. [90-100] : 'A'\n",
    "2. [80-90) : 'B+'\n",
    "3. [70-80) : 'B'\n",
    "4. [60-70) : 'C+'\n",
    "5. < 60 : 'C'\n",
    "\n",
    "The final output should be a dictionary with student id mapped to letter grade. "
   ]
  },
  {
   "cell_type": "code",
   "execution_count": 4,
   "metadata": {},
   "outputs": [],
   "source": [
    "student_scores = {\n",
    "    'phj17' : [90, 90, 187, 175, 290],\n",
    "    'kd710' : [50, 60, 110, 180, 210],\n",
    "    'tn278' : [100, 95, 170, 105, 280],\n",
    "    'rhb13' : [85, 88, 192, 178, 263]\n",
    "}"
   ]
  },
  {
   "cell_type": "markdown",
   "metadata": {},
   "source": [
    "---"
   ]
  },
  {
   "cell_type": "markdown",
   "metadata": {},
   "source": [
    "#### Problem 8\n",
    "\n",
    "1. Given the following list of (word, count), sort the list on the basis of descending order of counts.\n",
    "2. Sort the list on the basis of length of the words."
   ]
  },
  {
   "cell_type": "code",
   "execution_count": 31,
   "metadata": {},
   "outputs": [],
   "source": [
    "count = [('hello', 56), ('the', 389), ('name', 23), ('my', 45), ('wonderful', 12)]"
   ]
  }
 ],
 "metadata": {
  "kernelspec": {
   "display_name": "Python 3",
   "language": "python",
   "name": "python3"
  },
  "language_info": {
   "codemirror_mode": {
    "name": "ipython",
    "version": 3
   },
   "file_extension": ".py",
   "mimetype": "text/x-python",
   "name": "python",
   "nbconvert_exporter": "python",
   "pygments_lexer": "ipython3",
   "version": "3.7.6"
  }
 },
 "nbformat": 4,
 "nbformat_minor": 4
}
