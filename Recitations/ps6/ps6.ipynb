{
 "cells": [
  {
   "cell_type": "markdown",
   "metadata": {
    "id": "JlD0JqiREsSp"
   },
   "source": [
    "### <font color=\"brown\">Problem Set 6: JSON and CSV Processing</font>"
   ]
  },
  {
   "cell_type": "markdown",
   "metadata": {},
   "source": [
    "---"
   ]
  },
  {
   "cell_type": "markdown",
   "metadata": {},
   "source": [
    "#### Problem 1\n",
    "\n",
    "Write a Python program to convert a Python dictionary object a JSON string, sorted by key, with indent level 4."
   ]
  },
  {
   "cell_type": "code",
   "execution_count": 5,
   "metadata": {},
   "outputs": [],
   "source": [
    "person_dict = {\n",
    "  \"name\": \"John\",\n",
    "  \"age\": 30,\n",
    "  \"married\": True,\n",
    "  \"divorced\": False,\n",
    "  \"children\": (\"Ann\",\"Billy\"),\n",
    "  \"pets\": None,\n",
    "  \"cars\": [\n",
    "    {\"model\": \"BMW 230\", \"mpg\": 27.5},\n",
    "    {\"model\": \"Ford Edge\", \"mpg\": 24.1}\n",
    "  ]\n",
    "}"
   ]
  },
  {
   "cell_type": "markdown",
   "metadata": {},
   "source": [
    "---"
   ]
  },
  {
   "cell_type": "markdown",
   "metadata": {},
   "source": [
    "#### Problem 2\n",
    "\n",
    "For the given JSON string, do the following:\n",
    "\n",
    "1. Print the total payble amount for employee \"Emma\". (Total Payable = Salary + Bonus)\n",
    "2. Get the average salary for all the employees"
   ]
  },
  {
   "cell_type": "code",
   "execution_count": 4,
   "metadata": {},
   "outputs": [],
   "source": [
    "sampleJson = \"\"\"{ \n",
    "   \"company\":{ \n",
    "      \"employee\":[\n",
    "          {\n",
    "         \"name\":\"emma\",\n",
    "         \"payble\":{ \n",
    "            \"salary\":7000,\n",
    "            \"bonus\":800\n",
    "         }},\n",
    "         {\n",
    "         \"name\":\"josh\",\n",
    "         \"payble\":{ \n",
    "            \"salary\":9000,\n",
    "            \"bonus\":100\n",
    "         }},\n",
    "         {\n",
    "         \"name\":\"jake\",\n",
    "         \"payble\":{ \n",
    "            \"salary\":5000,\n",
    "            \"bonus\":200\n",
    "         }\n",
    "      }\n",
    "   ]\n",
    "}}\"\"\""
   ]
  },
  {
   "cell_type": "markdown",
   "metadata": {},
   "source": [
    "---"
   ]
  },
  {
   "cell_type": "markdown",
   "metadata": {},
   "source": [
    "#### Problem 3\n",
    "\n",
    "Parse the following JSON string to get all the values of the key ‘name’. The result should be a list. "
   ]
  },
  {
   "cell_type": "code",
   "execution_count": 6,
   "metadata": {},
   "outputs": [],
   "source": [
    "sampleJson = \"\"\"[ \n",
    "   { \n",
    "      \"id\":1,\n",
    "      \"name\":\"name1\",\n",
    "      \"color\":[ \n",
    "         \"red\",\n",
    "         \"green\"\n",
    "      ]\n",
    "   },\n",
    "   { \n",
    "      \"id\":2,\n",
    "      \"name\":\"name2\",\n",
    "      \"color\":[ \n",
    "         \"pink\",\n",
    "         \"yellow\"\n",
    "      ]\n",
    "   }\n",
    "]\"\"\""
   ]
  },
  {
   "cell_type": "markdown",
   "metadata": {},
   "source": [
    "---"
   ]
  },
  {
   "cell_type": "markdown",
   "metadata": {},
   "source": [
    "#### Problem 4\n",
    "\n",
    "Check whether following json is valid or invalid. If Invalid correct it. <br>\n",
    "Hint: Check json.tool (https://docs.python.org/3/library/json.html#module-json.tool)"
   ]
  },
  {
   "cell_type": "code",
   "execution_count": 10,
   "metadata": {},
   "outputs": [],
   "source": [
    "sampleJson = { \n",
    "   \"company\":{ \n",
    "      \"employee\":{ \n",
    "         \"name\":\"emma\",\n",
    "         \"payble\":{ \n",
    "            \"salary\":7000\n",
    "            \"bonus\":800\n",
    "         }\n",
    "      }\n",
    "   }\n",
    "}"
   ]
  },
  {
   "cell_type": "markdown",
   "metadata": {},
   "source": [
    "---"
   ]
  },
  {
   "cell_type": "markdown",
   "metadata": {},
   "source": [
    "#### Problem 5:\n",
    "\n",
    "1. Write a Python program to read the given CSV file *department.csv* and fill the missing managerID with 000. Display the department with highest average salary.\n",
    "\n",
    "2. Is there a way to skip the header of the CSV file? \n",
    "3. Perform the above functions using DictReader. Also list department ids with the most common average salary value."
   ]
  },
  {
   "cell_type": "markdown",
   "metadata": {},
   "source": [
    "---"
   ]
  },
  {
   "cell_type": "markdown",
   "metadata": {},
   "source": [
    "#### Problem 6:\n",
    "\n",
    "You are given a file named *countries.txt*, in which the columns (in order) refer to country id, country name, region id, and average population (in thousands). Use DictReader to read this file and calculate the average population of countries belonging to region 1. Ignore the countries where average population is not available. "
   ]
  }
 ],
 "metadata": {
  "kernelspec": {
   "display_name": "Python 3",
   "language": "python",
   "name": "python3"
  },
  "language_info": {
   "codemirror_mode": {
    "name": "ipython",
    "version": 3
   },
   "file_extension": ".py",
   "mimetype": "text/x-python",
   "name": "python",
   "nbconvert_exporter": "python",
   "pygments_lexer": "ipython3",
   "version": "3.7.6"
  }
 },
 "nbformat": 4,
 "nbformat_minor": 4
}
