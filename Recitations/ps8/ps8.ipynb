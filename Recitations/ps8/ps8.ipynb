{
 "cells": [
  {
   "cell_type": "markdown",
   "metadata": {},
   "source": [
    "### <font color=\"brown\">Problem Set 8: NumPy, Pandas</font>"
   ]
  },
  {
   "cell_type": "code",
   "execution_count": 1,
   "metadata": {},
   "outputs": [],
   "source": [
    "import numpy as np\n",
    "from pandas import Series\n",
    "from pandas import DataFrame"
   ]
  },
  {
   "cell_type": "markdown",
   "metadata": {},
   "source": [
    "---"
   ]
  },
  {
   "cell_type": "markdown",
   "metadata": {},
   "source": [
    "#### Problem 1\n",
    "\n",
    "Given a 2D NumPy array with n rows and k columns, where the rows are students, and the columns are scores on quizzes (integer, between 0 and 20, inclusive), compute a result NumPy array of size k x 3 with the max, min, and average score on each quiz, and, separately, the average class score on all quizzes combined."
   ]
  },
  {
   "cell_type": "markdown",
   "metadata": {},
   "source": [
    "---"
   ]
  },
  {
   "cell_type": "markdown",
   "metadata": {
    "id": "9vj4PrvXw2nZ"
   },
   "source": [
    "#### Problem 2 (Carried over from PS7): \n",
    "\n",
    "Mean normalization: <br>\n",
    "\n",
    "Mean normalizing is a common technique in Data Science and Machine learning as part of pre-processing the data. Write a function that replaces all nan values to a zero from a given array. Also, the method should perform mean normalization i.e. Subtract the mean of each row of the resultant array."
   ]
  },
  {
   "cell_type": "code",
   "execution_count": null,
   "metadata": {
    "id": "ts-R0bgZw2nZ"
   },
   "outputs": [],
   "source": [
    "X = np.array([[5,6,np.nan,7],[1,np.nan,0,5],[-1,5,np.nan,2]])"
   ]
  },
  {
   "cell_type": "code",
   "execution_count": null,
   "metadata": {
    "id": "m3x6JUlWw2nZ"
   },
   "outputs": [],
   "source": [
    "# Solution\n",
    "def mean_normalize(X):\n",
    "    \n",
    "    return Y"
   ]
  },
  {
   "cell_type": "markdown",
   "metadata": {},
   "source": [
    "---"
   ]
  },
  {
   "cell_type": "markdown",
   "metadata": {
    "id": "AiurFReYw2na"
   },
   "source": [
    "#### Problem 3 (Carried over from PS7):\n",
    "Write a function that takes a 1d array and generates out of it a 2d matrix using strides, with a window length of w and strides of s. \n",
    "\n",
    "For example, for an input array [0,1,2,3,....15] with window length 4 and stride 2, the output matrix should be like [[0,1,2,3], [2,3,4,5], [4,5,6,7]..]. In addition to the 1d array, the function should accept the stride length and the window length as parameters, with a default value of 5 for both."
   ]
  },
  {
   "cell_type": "markdown",
   "metadata": {},
   "source": [
    "---"
   ]
  },
  {
   "cell_type": "markdown",
   "metadata": {
    "id": "E7KyJP-pw2nb"
   },
   "source": [
    "#### Problem 4: \n",
    "\n",
    "Generate two 5x5 matrices (A and B) with random uniform values between [0,1]. \n",
    "\n",
    "1. Compute the diagonal of the dot product of two 5x5 matrices, A and B.\n",
    "2. Create a new matric C from A with dimensions (3x4). Sort the matrix C columnwise. Reshape C to have dimension (2x6)\n",
    "3. Write a method to calculate the cosine similarity between two vectors. Calculate row-wise cosine similarity of A and B. Let it be vector D. For distances greater than 0.7, clip the value to 1 and for values less than 0.7, clip the values to 0.\n",
    "\n",
    "Cosine similarity: https://en.wikipedia.org/wiki/Cosine_similarity"
   ]
  },
  {
   "cell_type": "markdown",
   "metadata": {},
   "source": [
    "---"
   ]
  },
  {
   "cell_type": "markdown",
   "metadata": {
    "id": "E7KyJP-pw2nb"
   },
   "source": [
    "#### Problem 5: \n",
    "\n",
    "**Series and DataFrame - Short Answer Questions**"
   ]
  },
  {
   "cell_type": "markdown",
   "metadata": {},
   "source": [
    "**1. What does the following code print?**\n",
    "\n",
    "<pre>\n",
    "ser = Series({'A':25, 'B':31, 'C':26},name='scores')\n",
    "print(ser.reset_index().scores[1])\n",
    "</pre>"
   ]
  },
  {
   "cell_type": "markdown",
   "metadata": {},
   "source": [
    "**---------------------------------------------------------------**"
   ]
  },
  {
   "cell_type": "markdown",
   "metadata": {},
   "source": [
    "**2. What does the following code print?**\n",
    "\n",
    "<pre>\n",
    "df = DataFrame(np.arange(1,9).reshape(4,2), index=['A','B','C','D'])\n",
    "df.loc['B':'D'][0].max()\n",
    "</pre>"
   ]
  },
  {
   "cell_type": "markdown",
   "metadata": {},
   "source": [
    "**---------------------------------------------------------------**"
   ]
  },
  {
   "cell_type": "markdown",
   "metadata": {},
   "source": [
    "**3. Write 3 different ways to extract the last 3 rows of the following DataFrame**\n",
    "\n",
    "<pre>\n",
    "df = DataFrame(np.arange(1,25).reshape(4,6))\n",
    "</pre>"
   ]
  },
  {
   "cell_type": "markdown",
   "metadata": {},
   "source": [
    "**---------------------------------------------------------------**"
   ]
  },
  {
   "cell_type": "markdown",
   "metadata": {},
   "source": [
    "**4. What is the result of the following?**\n",
    "\n",
    "<pre>\n",
    "data = DataFrame({\n",
    "   'id':[1,2,3,4,5],\n",
    "   'Name': ['Alex', 'Amy', 'Allen', 'Alice', 'Abby'],\n",
    "   'subject_id':['sub1','sub2','sub3','sub4','sub5']})\n",
    "\n",
    "data.T[1:3][2][0]\n",
    "</pre>"
   ]
  },
  {
   "cell_type": "code",
   "execution_count": null,
   "metadata": {},
   "outputs": [],
   "source": []
  }
 ],
 "metadata": {
  "kernelspec": {
   "display_name": "Python 3",
   "language": "python",
   "name": "python3"
  },
  "language_info": {
   "codemirror_mode": {
    "name": "ipython",
    "version": 3
   },
   "file_extension": ".py",
   "mimetype": "text/x-python",
   "name": "python",
   "nbconvert_exporter": "python",
   "pygments_lexer": "ipython3",
   "version": "3.7.6"
  }
 },
 "nbformat": 4,
 "nbformat_minor": 4
}
